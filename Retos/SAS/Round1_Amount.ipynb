{
  "cells": [
    {
      "cell_type": "markdown",
      "id": "44509e0a",
      "metadata": {
        "id": "44509e0a"
      },
      "source": [
        "![Python_logo](https://www.python.org/static/community_logos/python-logo-master-v3-TM.png)\n",
        "\n",
        "\n",
        "   # **Cortex Game: Round1--Amount**"
      ]
    },
    {
      "cell_type": "markdown",
      "id": "e6bf1264-7b5f-4f0e-a622-c308e40cb8be",
      "metadata": {
        "id": "e6bf1264-7b5f-4f0e-a622-c308e40cb8be"
      },
      "source": [
        "> Before playing the game, you need to connect to SASPy first.\n",
        ">\n",
        ">> If it is your first time, please follow the 4 steps mentioned below!"
      ]
    },
    {
      "cell_type": "markdown",
      "id": "d1a48e10-b624-4430-9cd1-25869d600d71",
      "metadata": {
        "id": "d1a48e10-b624-4430-9cd1-25869d600d71"
      },
      "source": [
        "***\n",
        "## **Connect to SASPy**"
      ]
    },
    {
      "cell_type": "markdown",
      "source": [
        "**0- Connect to your Google Drive folder**"
      ],
      "metadata": {
        "id": "8sYItHTOSAzC"
      },
      "id": "8sYItHTOSAzC"
    },
    {
      "cell_type": "code",
      "source": [
        "from google.colab import drive\n",
        "import os\n",
        "\n",
        "my_folder = \"/content/drive/MyDrive/InteligenciaArtificial_CienciaDatos\"\n",
        "drive.mount('/content/drive')\n",
        "\n",
        "os.chdir(my_folder)\n",
        "!pwd"
      ],
      "metadata": {
        "colab": {
          "base_uri": "https://localhost:8080/"
        },
        "id": "qT2R-2uQR8BC",
        "outputId": "16f48109-888c-44b9-fc97-912a4ac31744"
      },
      "id": "qT2R-2uQR8BC",
      "execution_count": null,
      "outputs": [
        {
          "output_type": "stream",
          "name": "stdout",
          "text": [
            "Drive already mounted at /content/drive; to attempt to forcibly remount, call drive.mount(\"/content/drive\", force_remount=True).\n",
            "/content/drive/MyDrive/InteligenciaArtificial_CienciaDatos\n"
          ]
        }
      ]
    },
    {
      "cell_type": "markdown",
      "id": "ec889f32",
      "metadata": {
        "id": "ec889f32"
      },
      "source": [
        "**1- Make sure that your Python version is 3.3 or higher**"
      ]
    },
    {
      "cell_type": "code",
      "execution_count": null,
      "id": "6d369a1a",
      "metadata": {
        "colab": {
          "base_uri": "https://localhost:8080/"
        },
        "id": "6d369a1a",
        "outputId": "750e6d7f-88fa-4bb2-b054-95ff9b788610"
      },
      "outputs": [
        {
          "output_type": "stream",
          "name": "stdout",
          "text": [
            "3.8.15\n"
          ]
        }
      ],
      "source": [
        "from platform import python_version\n",
        "print (python_version())"
      ]
    },
    {
      "cell_type": "markdown",
      "id": "10e73c6f",
      "metadata": {
        "id": "10e73c6f"
      },
      "source": [
        "**2- Install SASPy**"
      ]
    },
    {
      "cell_type": "code",
      "execution_count": null,
      "id": "1c053af0",
      "metadata": {
        "colab": {
          "base_uri": "https://localhost:8080/"
        },
        "id": "1c053af0",
        "outputId": "dfd8ad67-84da-470b-ffc3-8eb893636c64"
      },
      "outputs": [
        {
          "output_type": "stream",
          "name": "stdout",
          "text": [
            "Looking in indexes: https://pypi.org/simple, https://us-python.pkg.dev/colab-wheels/public/simple/\n",
            "Collecting saspy\n",
            "  Downloading saspy-4.4.1.tar.gz (9.9 MB)\n",
            "\u001b[K     |████████████████████████████████| 9.9 MB 23.9 MB/s \n",
            "\u001b[?25hBuilding wheels for collected packages: saspy\n",
            "  Building wheel for saspy (setup.py) ... \u001b[?25l\u001b[?25hdone\n",
            "  Created wheel for saspy: filename=saspy-4.4.1-py3-none-any.whl size=9937304 sha256=152d97a063578a13e7cdf8cdba1fc26ebdf2d01736428be09531193d9b5333bc\n",
            "  Stored in directory: /root/.cache/pip/wheels/0a/f6/ab/f7173c8a824856c66f6fd50194bb8fd3ef93fb4f1824be8d0c\n",
            "Successfully built saspy\n",
            "Installing collected packages: saspy\n",
            "Successfully installed saspy-4.4.1\n"
          ]
        }
      ],
      "source": [
        "pip install saspy"
      ]
    },
    {
      "cell_type": "markdown",
      "id": "9fb501a5",
      "metadata": {
        "id": "9fb501a5"
      },
      "source": [
        "**3- Make sure that the configuration file \"sascfg_personal.py\" is correctly created**"
      ]
    },
    {
      "cell_type": "code",
      "source": [
        "%%writefile sascfg_personal.py\n",
        "SAS_config_names=['oda']\n",
        "oda = {'java' : '/usr/bin/java',\n",
        "#US Home Region 1\n",
        "'iomhost' : ['odaws01-usw2.oda.sas.com','odaws02-usw2.oda.sas.com','odaws03-usw2.oda.sas.com','odaws04-usw2.oda.sas.com'],\n",
        "'iomport' : 8591,\n",
        "'authkey' : 'oda',\n",
        "'encoding' : 'utf-8'\n",
        "}"
      ],
      "metadata": {
        "colab": {
          "base_uri": "https://localhost:8080/"
        },
        "id": "yQb5xDiWSlMr",
        "outputId": "1f52bb3e-dc64-459c-ba61-dd78e73d46d8"
      },
      "id": "yQb5xDiWSlMr",
      "execution_count": null,
      "outputs": [
        {
          "output_type": "stream",
          "name": "stdout",
          "text": [
            "Overwriting sascfg_personal.py\n"
          ]
        }
      ]
    },
    {
      "cell_type": "code",
      "execution_count": null,
      "id": "c1a441c5-17c6-4818-841a-b87cf9a864f8",
      "metadata": {
        "tags": [],
        "colab": {
          "base_uri": "https://localhost:8080/"
        },
        "id": "c1a441c5-17c6-4818-841a-b87cf9a864f8",
        "outputId": "18d69b2d-994c-49a0-f4dc-7c8222805eee"
      },
      "outputs": [
        {
          "output_type": "stream",
          "name": "stdout",
          "text": [
            "/usr/local/lib/python3.8/dist-packages/saspy/sascfg_personal.py\n"
          ]
        }
      ],
      "source": [
        "import saspy\n",
        "print(saspy.__file__.replace('__init__.py', 'sascfg_personal.py'))\n"
      ]
    },
    {
      "cell_type": "markdown",
      "source": [
        "**4- Create your .authinfo**"
      ],
      "metadata": {
        "id": "CrS6JleySwr8"
      },
      "id": "CrS6JleySwr8"
    },
    {
      "cell_type": "code",
      "source": [
        "%%writefile .authinfo\n",
        "oda user   password \n"
      ],
      "metadata": {
        "colab": {
          "base_uri": "https://localhost:8080/"
        },
        "id": "d0ZBeNGRS1He",
        "outputId": "42bb20ac-d014-4b23-8b2b-ed21b09c5bcb"
      },
      "id": "d0ZBeNGRS1He",
      "execution_count": null,
      "outputs": [
        {
          "output_type": "stream",
          "name": "stdout",
          "text": [
            "Overwriting .authinfo\n"
          ]
        }
      ]
    },
    {
      "cell_type": "code",
      "source": [
        "!cp .authinfo ~/.authinfo"
      ],
      "metadata": {
        "id": "pprWGkup591N"
      },
      "id": "pprWGkup591N",
      "execution_count": null,
      "outputs": []
    },
    {
      "cell_type": "markdown",
      "id": "11efebd8",
      "metadata": {
        "id": "11efebd8"
      },
      "source": [
        "**5- Establish Connection (Need to do this step each time you use SASPy)**"
      ]
    },
    {
      "cell_type": "code",
      "execution_count": null,
      "id": "413ecaba",
      "metadata": {
        "colab": {
          "base_uri": "https://localhost:8080/"
        },
        "id": "413ecaba",
        "outputId": "f37c4d59-c244-4b01-8ad8-b7e75aa0a632"
      },
      "outputs": [
        {
          "output_type": "stream",
          "name": "stdout",
          "text": [
            "Using SAS Config named: oda\n",
            "SAS Connection established. Subprocess id is 453\n",
            "\n"
          ]
        },
        {
          "output_type": "execute_result",
          "data": {
            "text/plain": [
              "Access Method         = IOM\n",
              "SAS Config name       = oda\n",
              "SAS Config file       = /content/drive/MyDrive/InteligenciaArtificial_CienciaDatos/sascfg_personal.py\n",
              "WORK Path             = /saswork/SAS_work90E70001F2EF_odaws02-usw2.oda.sas.com/SAS_work27610001F2EF_odaws02-usw2.oda.sas.com/\n",
              "SAS Version           = 9.04.01M6P11072018\n",
              "SASPy Version         = 4.4.1\n",
              "Teach me SAS          = False\n",
              "Batch                 = False\n",
              "Results               = Pandas\n",
              "SAS Session Encoding  = utf-8\n",
              "Python Encoding value = utf-8\n",
              "SAS process Pid value = 127727\n"
            ]
          },
          "metadata": {},
          "execution_count": 18
        }
      ],
      "source": [
        "sas_session = saspy.SASsession(cfgfile=\"/content/drive/MyDrive/InteligenciaArtificial_CienciaDatos/sascfg_personal.py\")\n",
        "sas_session"
      ]
    },
    {
      "cell_type": "markdown",
      "id": "719fb2db-4238-4892-aab6-757f696ccd57",
      "metadata": {
        "id": "719fb2db-4238-4892-aab6-757f696ccd57"
      },
      "source": [
        "***\n",
        "## Connect to Cortex Data Sets"
      ]
    },
    {
      "cell_type": "markdown",
      "id": "a9e40645",
      "metadata": {
        "id": "a9e40645"
      },
      "source": [
        "Load Cortex datasets from SAS Studio"
      ]
    },
    {
      "cell_type": "code",
      "execution_count": null,
      "id": "5a99acdd",
      "metadata": {
        "colab": {
          "base_uri": "https://localhost:8080/"
        },
        "id": "5a99acdd",
        "outputId": "2bfe0c26-9167-4f0e-ee76-30fbdf7f8ab5"
      },
      "outputs": [
        {
          "output_type": "stream",
          "name": "stdout",
          "text": [
            "\n",
            "141                                                        The SAS System                      Friday, December  2, 2022 05:31:00 AM\n",
            "\n",
            "1001       ods listing close;ods html5 (id=saspy_internal) file=_tomods1 options(bitmap_mode='inline') device=svg style=HTMLBlue;\n",
            "1001     ! ods graphics on / outputfmt=png;\n",
            "1002       \n",
            "1003       libname cortex '~/my_shared_file_links/u39842936/Cortex Data Sets';\n",
            "1004       \n",
            "1005       \n",
            "1006       ods html5 (id=saspy_internal) close;ods listing;\n",
            "1007       \n",
            "\n",
            "142                                                        The SAS System                      Friday, December  2, 2022 05:31:00 AM\n",
            "\n",
            "1008       \n"
          ]
        }
      ],
      "source": [
        "ps = sas_session.submit(\"\"\"libname cortex '~/my_shared_file_links/u39842936/Cortex Data Sets';\"\"\")\n",
        "print(ps[\"LOG\"])\n"
      ]
    },
    {
      "cell_type": "markdown",
      "id": "907b9c04",
      "metadata": {
        "id": "907b9c04"
      },
      "source": [
        "## Transform cloud SAS dataset to Python dataframe (pandas)\n",
        "\n",
        "\n",
        "> **For reference**:\n",
        "\n",
        "> 1. [Pandas library](https://pandas.pydata.org/docs/user_guide/index.html)\n",
        "\n",
        "> 2. [sklearn.model_selection for data partition](https://scikit-learn.org/stable/modules/generated/sklearn.model_selection.train_test_split.html)\n"
      ]
    },
    {
      "cell_type": "code",
      "execution_count": null,
      "id": "9ee94088",
      "metadata": {
        "id": "9ee94088"
      },
      "outputs": [],
      "source": [
        "import pandas as pd\n",
        "\n",
        "data1 = sas_session.sasdata2dataframe(table='hist', libref='cortex')\n",
        "data2 = sas_session.sasdata2dataframe(table='target_rd1', libref='cortex')"
      ]
    },
    {
      "cell_type": "markdown",
      "id": "a776622a-bd69-46fe-a704-f84e750baae9",
      "metadata": {
        "id": "a776622a-bd69-46fe-a704-f84e750baae9"
      },
      "source": [
        "## Merge the Data"
      ]
    },
    {
      "cell_type": "code",
      "execution_count": null,
      "id": "ee3751bb-a1e1-4287-ad3a-625e9140302f",
      "metadata": {
        "colab": {
          "base_uri": "https://localhost:8080/",
          "height": 338
        },
        "id": "ee3751bb-a1e1-4287-ad3a-625e9140302f",
        "outputId": "e9d4c2ce-8fed-4dfd-db14-91e3c25b53c6"
      },
      "outputs": [
        {
          "output_type": "execute_result",
          "data": {
            "text/plain": [
              "               ID     LastName FirstName  Woman   Age    Salary  \\\n",
              "953586  2953587.0         YORK    THOMAS    0.0  56.0   61000.0   \n",
              "635598  2635599.0        TANGI    ANDREW    0.0  55.0   66500.0   \n",
              "158755  2158756.0       LEIBEL     LINDA    1.0  50.0  162400.0   \n",
              "484816  2484817.0  BATTENFIELD  VERONICA    1.0  17.0    1500.0   \n",
              "\n",
              "                   Education      City  SeniorList  NbActivities  ...  \\\n",
              "953586           High School  Downtown         2.0           0.0  ...   \n",
              "635598  University / College  Suburban         7.0           0.0  ...   \n",
              "158755  University / College  Downtown         1.0           0.0  ...   \n",
              "484816           High School     Rural         8.0           0.0  ...   \n",
              "\n",
              "        Recency  Frequency  Seniority  TotalGift  MinGift  MaxGift  \\\n",
              "953586      NaN        NaN        NaN        NaN      NaN      NaN   \n",
              "635598      4.0        1.0        4.0       20.0     20.0     20.0   \n",
              "158755      NaN        NaN        NaN        NaN      NaN      NaN   \n",
              "484816      5.0        1.0        5.0       20.0     20.0     20.0   \n",
              "\n",
              "        GaveLastYear  AmtLastYear  GaveThisYear  AmtThisYear  \n",
              "953586           0.0          0.0           0.0          0.0  \n",
              "635598           0.0          0.0           0.0          0.0  \n",
              "158755           0.0          0.0           0.0          0.0  \n",
              "484816           0.0          0.0           0.0          0.0  \n",
              "\n",
              "[4 rows x 21 columns]"
            ],
            "text/html": [
              "\n",
              "  <div id=\"df-a54f9f4d-0f69-4c43-81cc-6e47947dd37a\">\n",
              "    <div class=\"colab-df-container\">\n",
              "      <div>\n",
              "<style scoped>\n",
              "    .dataframe tbody tr th:only-of-type {\n",
              "        vertical-align: middle;\n",
              "    }\n",
              "\n",
              "    .dataframe tbody tr th {\n",
              "        vertical-align: top;\n",
              "    }\n",
              "\n",
              "    .dataframe thead th {\n",
              "        text-align: right;\n",
              "    }\n",
              "</style>\n",
              "<table border=\"1\" class=\"dataframe\">\n",
              "  <thead>\n",
              "    <tr style=\"text-align: right;\">\n",
              "      <th></th>\n",
              "      <th>ID</th>\n",
              "      <th>LastName</th>\n",
              "      <th>FirstName</th>\n",
              "      <th>Woman</th>\n",
              "      <th>Age</th>\n",
              "      <th>Salary</th>\n",
              "      <th>Education</th>\n",
              "      <th>City</th>\n",
              "      <th>SeniorList</th>\n",
              "      <th>NbActivities</th>\n",
              "      <th>...</th>\n",
              "      <th>Recency</th>\n",
              "      <th>Frequency</th>\n",
              "      <th>Seniority</th>\n",
              "      <th>TotalGift</th>\n",
              "      <th>MinGift</th>\n",
              "      <th>MaxGift</th>\n",
              "      <th>GaveLastYear</th>\n",
              "      <th>AmtLastYear</th>\n",
              "      <th>GaveThisYear</th>\n",
              "      <th>AmtThisYear</th>\n",
              "    </tr>\n",
              "  </thead>\n",
              "  <tbody>\n",
              "    <tr>\n",
              "      <th>953586</th>\n",
              "      <td>2953587.0</td>\n",
              "      <td>YORK</td>\n",
              "      <td>THOMAS</td>\n",
              "      <td>0.0</td>\n",
              "      <td>56.0</td>\n",
              "      <td>61000.0</td>\n",
              "      <td>High School</td>\n",
              "      <td>Downtown</td>\n",
              "      <td>2.0</td>\n",
              "      <td>0.0</td>\n",
              "      <td>...</td>\n",
              "      <td>NaN</td>\n",
              "      <td>NaN</td>\n",
              "      <td>NaN</td>\n",
              "      <td>NaN</td>\n",
              "      <td>NaN</td>\n",
              "      <td>NaN</td>\n",
              "      <td>0.0</td>\n",
              "      <td>0.0</td>\n",
              "      <td>0.0</td>\n",
              "      <td>0.0</td>\n",
              "    </tr>\n",
              "    <tr>\n",
              "      <th>635598</th>\n",
              "      <td>2635599.0</td>\n",
              "      <td>TANGI</td>\n",
              "      <td>ANDREW</td>\n",
              "      <td>0.0</td>\n",
              "      <td>55.0</td>\n",
              "      <td>66500.0</td>\n",
              "      <td>University / College</td>\n",
              "      <td>Suburban</td>\n",
              "      <td>7.0</td>\n",
              "      <td>0.0</td>\n",
              "      <td>...</td>\n",
              "      <td>4.0</td>\n",
              "      <td>1.0</td>\n",
              "      <td>4.0</td>\n",
              "      <td>20.0</td>\n",
              "      <td>20.0</td>\n",
              "      <td>20.0</td>\n",
              "      <td>0.0</td>\n",
              "      <td>0.0</td>\n",
              "      <td>0.0</td>\n",
              "      <td>0.0</td>\n",
              "    </tr>\n",
              "    <tr>\n",
              "      <th>158755</th>\n",
              "      <td>2158756.0</td>\n",
              "      <td>LEIBEL</td>\n",
              "      <td>LINDA</td>\n",
              "      <td>1.0</td>\n",
              "      <td>50.0</td>\n",
              "      <td>162400.0</td>\n",
              "      <td>University / College</td>\n",
              "      <td>Downtown</td>\n",
              "      <td>1.0</td>\n",
              "      <td>0.0</td>\n",
              "      <td>...</td>\n",
              "      <td>NaN</td>\n",
              "      <td>NaN</td>\n",
              "      <td>NaN</td>\n",
              "      <td>NaN</td>\n",
              "      <td>NaN</td>\n",
              "      <td>NaN</td>\n",
              "      <td>0.0</td>\n",
              "      <td>0.0</td>\n",
              "      <td>0.0</td>\n",
              "      <td>0.0</td>\n",
              "    </tr>\n",
              "    <tr>\n",
              "      <th>484816</th>\n",
              "      <td>2484817.0</td>\n",
              "      <td>BATTENFIELD</td>\n",
              "      <td>VERONICA</td>\n",
              "      <td>1.0</td>\n",
              "      <td>17.0</td>\n",
              "      <td>1500.0</td>\n",
              "      <td>High School</td>\n",
              "      <td>Rural</td>\n",
              "      <td>8.0</td>\n",
              "      <td>0.0</td>\n",
              "      <td>...</td>\n",
              "      <td>5.0</td>\n",
              "      <td>1.0</td>\n",
              "      <td>5.0</td>\n",
              "      <td>20.0</td>\n",
              "      <td>20.0</td>\n",
              "      <td>20.0</td>\n",
              "      <td>0.0</td>\n",
              "      <td>0.0</td>\n",
              "      <td>0.0</td>\n",
              "      <td>0.0</td>\n",
              "    </tr>\n",
              "  </tbody>\n",
              "</table>\n",
              "<p>4 rows × 21 columns</p>\n",
              "</div>\n",
              "      <button class=\"colab-df-convert\" onclick=\"convertToInteractive('df-a54f9f4d-0f69-4c43-81cc-6e47947dd37a')\"\n",
              "              title=\"Convert this dataframe to an interactive table.\"\n",
              "              style=\"display:none;\">\n",
              "        \n",
              "  <svg xmlns=\"http://www.w3.org/2000/svg\" height=\"24px\"viewBox=\"0 0 24 24\"\n",
              "       width=\"24px\">\n",
              "    <path d=\"M0 0h24v24H0V0z\" fill=\"none\"/>\n",
              "    <path d=\"M18.56 5.44l.94 2.06.94-2.06 2.06-.94-2.06-.94-.94-2.06-.94 2.06-2.06.94zm-11 1L8.5 8.5l.94-2.06 2.06-.94-2.06-.94L8.5 2.5l-.94 2.06-2.06.94zm10 10l.94 2.06.94-2.06 2.06-.94-2.06-.94-.94-2.06-.94 2.06-2.06.94z\"/><path d=\"M17.41 7.96l-1.37-1.37c-.4-.4-.92-.59-1.43-.59-.52 0-1.04.2-1.43.59L10.3 9.45l-7.72 7.72c-.78.78-.78 2.05 0 2.83L4 21.41c.39.39.9.59 1.41.59.51 0 1.02-.2 1.41-.59l7.78-7.78 2.81-2.81c.8-.78.8-2.07 0-2.86zM5.41 20L4 18.59l7.72-7.72 1.47 1.35L5.41 20z\"/>\n",
              "  </svg>\n",
              "      </button>\n",
              "      \n",
              "  <style>\n",
              "    .colab-df-container {\n",
              "      display:flex;\n",
              "      flex-wrap:wrap;\n",
              "      gap: 12px;\n",
              "    }\n",
              "\n",
              "    .colab-df-convert {\n",
              "      background-color: #E8F0FE;\n",
              "      border: none;\n",
              "      border-radius: 50%;\n",
              "      cursor: pointer;\n",
              "      display: none;\n",
              "      fill: #1967D2;\n",
              "      height: 32px;\n",
              "      padding: 0 0 0 0;\n",
              "      width: 32px;\n",
              "    }\n",
              "\n",
              "    .colab-df-convert:hover {\n",
              "      background-color: #E2EBFA;\n",
              "      box-shadow: 0px 1px 2px rgba(60, 64, 67, 0.3), 0px 1px 3px 1px rgba(60, 64, 67, 0.15);\n",
              "      fill: #174EA6;\n",
              "    }\n",
              "\n",
              "    [theme=dark] .colab-df-convert {\n",
              "      background-color: #3B4455;\n",
              "      fill: #D2E3FC;\n",
              "    }\n",
              "\n",
              "    [theme=dark] .colab-df-convert:hover {\n",
              "      background-color: #434B5C;\n",
              "      box-shadow: 0px 1px 3px 1px rgba(0, 0, 0, 0.15);\n",
              "      filter: drop-shadow(0px 1px 2px rgba(0, 0, 0, 0.3));\n",
              "      fill: #FFFFFF;\n",
              "    }\n",
              "  </style>\n",
              "\n",
              "      <script>\n",
              "        const buttonEl =\n",
              "          document.querySelector('#df-a54f9f4d-0f69-4c43-81cc-6e47947dd37a button.colab-df-convert');\n",
              "        buttonEl.style.display =\n",
              "          google.colab.kernel.accessAllowed ? 'block' : 'none';\n",
              "\n",
              "        async function convertToInteractive(key) {\n",
              "          const element = document.querySelector('#df-a54f9f4d-0f69-4c43-81cc-6e47947dd37a');\n",
              "          const dataTable =\n",
              "            await google.colab.kernel.invokeFunction('convertToInteractive',\n",
              "                                                     [key], {});\n",
              "          if (!dataTable) return;\n",
              "\n",
              "          const docLinkHtml = 'Like what you see? Visit the ' +\n",
              "            '<a target=\"_blank\" href=https://colab.research.google.com/notebooks/data_table.ipynb>data table notebook</a>'\n",
              "            + ' to learn more about interactive tables.';\n",
              "          element.innerHTML = '';\n",
              "          dataTable['output_type'] = 'display_data';\n",
              "          await google.colab.output.renderOutput(dataTable, element);\n",
              "          const docLink = document.createElement('div');\n",
              "          docLink.innerHTML = docLinkHtml;\n",
              "          element.appendChild(docLink);\n",
              "        }\n",
              "      </script>\n",
              "    </div>\n",
              "  </div>\n",
              "  "
            ]
          },
          "metadata": {},
          "execution_count": 90
        }
      ],
      "source": [
        "data_merge = pd.merge(data1, data2, on=[\"ID\"], how=\"right\")\n",
        "data_merge.sample(4)"
      ]
    },
    {
      "cell_type": "markdown",
      "id": "11f80a12-8482-4d72-8c10-656f5d1fe657",
      "metadata": {
        "id": "11f80a12-8482-4d72-8c10-656f5d1fe657"
      },
      "source": [
        "## Treat Missing Values\n",
        "\n",
        "> Please be aware that deleting all missing values can induce a selection bias. \n",
        "Some missing values are very informative. For example, when MinGift is missing, it means that the donor never gave in the past 10 years (leading to but excluding last year). Instead of deleting this information, replacing it by 0 is more appropriate!\n",
        "\n",
        "> A good understanding of the business case and the data can help you come up with more appropriate strategies to deal with missing values.\n"
      ]
    },
    {
      "cell_type": "code",
      "execution_count": null,
      "id": "9342cca8",
      "metadata": {
        "id": "9342cca8"
      },
      "outputs": [],
      "source": [
        "# Define as 0 missing values of: MinGift, MaxGift and TotalGift\n",
        "data_merge[['MinGift']] = data_merge[['MinGift']].fillna(value=0)\n",
        "data_merge[['MaxGift']] = data_merge[['MinGift']].fillna(value=0)\n",
        "data_merge[['TotalGift']] = data_merge[['MinGift']].fillna(value=0)"
      ]
    },
    {
      "cell_type": "code",
      "execution_count": null,
      "id": "6eed0b21",
      "metadata": {
        "colab": {
          "base_uri": "https://localhost:8080/",
          "height": 299
        },
        "id": "6eed0b21",
        "outputId": "e7120715-2bd2-4b13-c6cb-8ea5449e3037"
      },
      "outputs": [
        {
          "output_type": "execute_result",
          "data": {
            "text/plain": [
              "               ID      LastName FirstName  Woman   Age   Salary Education  \\\n",
              "903347  2903348.0       RODGERS    DUDLEY    0.0  32.0  31400.0         1   \n",
              "935069  2935070.0       BENNETT   MICHAEL    0.0  44.0  38900.0         1   \n",
              "693181  2693182.0  SAINTGERMAIN   YOLANDA    1.0  36.0  60300.0         2   \n",
              "92835   2092836.0        MALLOY   JEFFERY    0.0  62.0  51900.0         1   \n",
              "163649  2163650.0        GARCIA    WILLIS    0.0  53.0  96800.0         2   \n",
              "\n",
              "        SeniorList  NbActivities  Referrals  ...  TotalGift  MinGift  MaxGift  \\\n",
              "903347         2.0           0.0        1.0  ...      300.0    300.0    300.0   \n",
              "935069         9.0           0.0        1.0  ...       10.0     10.0     10.0   \n",
              "693181         3.0           1.0        0.0  ...        0.0      0.0      0.0   \n",
              "92835          0.0           0.0        0.0  ...        0.0      0.0      0.0   \n",
              "163649         0.0           0.0        0.0  ...        0.0      0.0      0.0   \n",
              "\n",
              "        GaveLastYear  AmtLastYear  GaveThisYear  AmtThisYear  Downtown  Rural  \\\n",
              "903347           0.0          0.0           0.0          0.0         0      0   \n",
              "935069           0.0          0.0           0.0          0.0         0      0   \n",
              "693181           0.0          0.0           1.0        100.0         0      1   \n",
              "92835            0.0          0.0           0.0          0.0         1      0   \n",
              "163649           1.0         30.0           0.0          0.0         0      1   \n",
              "\n",
              "        Suburban  \n",
              "903347         0  \n",
              "935069         1  \n",
              "693181         0  \n",
              "92835          0  \n",
              "163649         0  \n",
              "\n",
              "[5 rows x 23 columns]"
            ],
            "text/html": [
              "\n",
              "  <div id=\"df-d41ca0d9-eb7d-4af4-a37f-f0a4b57d9f8d\">\n",
              "    <div class=\"colab-df-container\">\n",
              "      <div>\n",
              "<style scoped>\n",
              "    .dataframe tbody tr th:only-of-type {\n",
              "        vertical-align: middle;\n",
              "    }\n",
              "\n",
              "    .dataframe tbody tr th {\n",
              "        vertical-align: top;\n",
              "    }\n",
              "\n",
              "    .dataframe thead th {\n",
              "        text-align: right;\n",
              "    }\n",
              "</style>\n",
              "<table border=\"1\" class=\"dataframe\">\n",
              "  <thead>\n",
              "    <tr style=\"text-align: right;\">\n",
              "      <th></th>\n",
              "      <th>ID</th>\n",
              "      <th>LastName</th>\n",
              "      <th>FirstName</th>\n",
              "      <th>Woman</th>\n",
              "      <th>Age</th>\n",
              "      <th>Salary</th>\n",
              "      <th>Education</th>\n",
              "      <th>SeniorList</th>\n",
              "      <th>NbActivities</th>\n",
              "      <th>Referrals</th>\n",
              "      <th>...</th>\n",
              "      <th>TotalGift</th>\n",
              "      <th>MinGift</th>\n",
              "      <th>MaxGift</th>\n",
              "      <th>GaveLastYear</th>\n",
              "      <th>AmtLastYear</th>\n",
              "      <th>GaveThisYear</th>\n",
              "      <th>AmtThisYear</th>\n",
              "      <th>Downtown</th>\n",
              "      <th>Rural</th>\n",
              "      <th>Suburban</th>\n",
              "    </tr>\n",
              "  </thead>\n",
              "  <tbody>\n",
              "    <tr>\n",
              "      <th>903347</th>\n",
              "      <td>2903348.0</td>\n",
              "      <td>RODGERS</td>\n",
              "      <td>DUDLEY</td>\n",
              "      <td>0.0</td>\n",
              "      <td>32.0</td>\n",
              "      <td>31400.0</td>\n",
              "      <td>1</td>\n",
              "      <td>2.0</td>\n",
              "      <td>0.0</td>\n",
              "      <td>1.0</td>\n",
              "      <td>...</td>\n",
              "      <td>300.0</td>\n",
              "      <td>300.0</td>\n",
              "      <td>300.0</td>\n",
              "      <td>0.0</td>\n",
              "      <td>0.0</td>\n",
              "      <td>0.0</td>\n",
              "      <td>0.0</td>\n",
              "      <td>0</td>\n",
              "      <td>0</td>\n",
              "      <td>0</td>\n",
              "    </tr>\n",
              "    <tr>\n",
              "      <th>935069</th>\n",
              "      <td>2935070.0</td>\n",
              "      <td>BENNETT</td>\n",
              "      <td>MICHAEL</td>\n",
              "      <td>0.0</td>\n",
              "      <td>44.0</td>\n",
              "      <td>38900.0</td>\n",
              "      <td>1</td>\n",
              "      <td>9.0</td>\n",
              "      <td>0.0</td>\n",
              "      <td>1.0</td>\n",
              "      <td>...</td>\n",
              "      <td>10.0</td>\n",
              "      <td>10.0</td>\n",
              "      <td>10.0</td>\n",
              "      <td>0.0</td>\n",
              "      <td>0.0</td>\n",
              "      <td>0.0</td>\n",
              "      <td>0.0</td>\n",
              "      <td>0</td>\n",
              "      <td>0</td>\n",
              "      <td>1</td>\n",
              "    </tr>\n",
              "    <tr>\n",
              "      <th>693181</th>\n",
              "      <td>2693182.0</td>\n",
              "      <td>SAINTGERMAIN</td>\n",
              "      <td>YOLANDA</td>\n",
              "      <td>1.0</td>\n",
              "      <td>36.0</td>\n",
              "      <td>60300.0</td>\n",
              "      <td>2</td>\n",
              "      <td>3.0</td>\n",
              "      <td>1.0</td>\n",
              "      <td>0.0</td>\n",
              "      <td>...</td>\n",
              "      <td>0.0</td>\n",
              "      <td>0.0</td>\n",
              "      <td>0.0</td>\n",
              "      <td>0.0</td>\n",
              "      <td>0.0</td>\n",
              "      <td>1.0</td>\n",
              "      <td>100.0</td>\n",
              "      <td>0</td>\n",
              "      <td>1</td>\n",
              "      <td>0</td>\n",
              "    </tr>\n",
              "    <tr>\n",
              "      <th>92835</th>\n",
              "      <td>2092836.0</td>\n",
              "      <td>MALLOY</td>\n",
              "      <td>JEFFERY</td>\n",
              "      <td>0.0</td>\n",
              "      <td>62.0</td>\n",
              "      <td>51900.0</td>\n",
              "      <td>1</td>\n",
              "      <td>0.0</td>\n",
              "      <td>0.0</td>\n",
              "      <td>0.0</td>\n",
              "      <td>...</td>\n",
              "      <td>0.0</td>\n",
              "      <td>0.0</td>\n",
              "      <td>0.0</td>\n",
              "      <td>0.0</td>\n",
              "      <td>0.0</td>\n",
              "      <td>0.0</td>\n",
              "      <td>0.0</td>\n",
              "      <td>1</td>\n",
              "      <td>0</td>\n",
              "      <td>0</td>\n",
              "    </tr>\n",
              "    <tr>\n",
              "      <th>163649</th>\n",
              "      <td>2163650.0</td>\n",
              "      <td>GARCIA</td>\n",
              "      <td>WILLIS</td>\n",
              "      <td>0.0</td>\n",
              "      <td>53.0</td>\n",
              "      <td>96800.0</td>\n",
              "      <td>2</td>\n",
              "      <td>0.0</td>\n",
              "      <td>0.0</td>\n",
              "      <td>0.0</td>\n",
              "      <td>...</td>\n",
              "      <td>0.0</td>\n",
              "      <td>0.0</td>\n",
              "      <td>0.0</td>\n",
              "      <td>1.0</td>\n",
              "      <td>30.0</td>\n",
              "      <td>0.0</td>\n",
              "      <td>0.0</td>\n",
              "      <td>0</td>\n",
              "      <td>1</td>\n",
              "      <td>0</td>\n",
              "    </tr>\n",
              "  </tbody>\n",
              "</table>\n",
              "<p>5 rows × 23 columns</p>\n",
              "</div>\n",
              "      <button class=\"colab-df-convert\" onclick=\"convertToInteractive('df-d41ca0d9-eb7d-4af4-a37f-f0a4b57d9f8d')\"\n",
              "              title=\"Convert this dataframe to an interactive table.\"\n",
              "              style=\"display:none;\">\n",
              "        \n",
              "  <svg xmlns=\"http://www.w3.org/2000/svg\" height=\"24px\"viewBox=\"0 0 24 24\"\n",
              "       width=\"24px\">\n",
              "    <path d=\"M0 0h24v24H0V0z\" fill=\"none\"/>\n",
              "    <path d=\"M18.56 5.44l.94 2.06.94-2.06 2.06-.94-2.06-.94-.94-2.06-.94 2.06-2.06.94zm-11 1L8.5 8.5l.94-2.06 2.06-.94-2.06-.94L8.5 2.5l-.94 2.06-2.06.94zm10 10l.94 2.06.94-2.06 2.06-.94-2.06-.94-.94-2.06-.94 2.06-2.06.94z\"/><path d=\"M17.41 7.96l-1.37-1.37c-.4-.4-.92-.59-1.43-.59-.52 0-1.04.2-1.43.59L10.3 9.45l-7.72 7.72c-.78.78-.78 2.05 0 2.83L4 21.41c.39.39.9.59 1.41.59.51 0 1.02-.2 1.41-.59l7.78-7.78 2.81-2.81c.8-.78.8-2.07 0-2.86zM5.41 20L4 18.59l7.72-7.72 1.47 1.35L5.41 20z\"/>\n",
              "  </svg>\n",
              "      </button>\n",
              "      \n",
              "  <style>\n",
              "    .colab-df-container {\n",
              "      display:flex;\n",
              "      flex-wrap:wrap;\n",
              "      gap: 12px;\n",
              "    }\n",
              "\n",
              "    .colab-df-convert {\n",
              "      background-color: #E8F0FE;\n",
              "      border: none;\n",
              "      border-radius: 50%;\n",
              "      cursor: pointer;\n",
              "      display: none;\n",
              "      fill: #1967D2;\n",
              "      height: 32px;\n",
              "      padding: 0 0 0 0;\n",
              "      width: 32px;\n",
              "    }\n",
              "\n",
              "    .colab-df-convert:hover {\n",
              "      background-color: #E2EBFA;\n",
              "      box-shadow: 0px 1px 2px rgba(60, 64, 67, 0.3), 0px 1px 3px 1px rgba(60, 64, 67, 0.15);\n",
              "      fill: #174EA6;\n",
              "    }\n",
              "\n",
              "    [theme=dark] .colab-df-convert {\n",
              "      background-color: #3B4455;\n",
              "      fill: #D2E3FC;\n",
              "    }\n",
              "\n",
              "    [theme=dark] .colab-df-convert:hover {\n",
              "      background-color: #434B5C;\n",
              "      box-shadow: 0px 1px 3px 1px rgba(0, 0, 0, 0.15);\n",
              "      filter: drop-shadow(0px 1px 2px rgba(0, 0, 0, 0.3));\n",
              "      fill: #FFFFFF;\n",
              "    }\n",
              "  </style>\n",
              "\n",
              "      <script>\n",
              "        const buttonEl =\n",
              "          document.querySelector('#df-d41ca0d9-eb7d-4af4-a37f-f0a4b57d9f8d button.colab-df-convert');\n",
              "        buttonEl.style.display =\n",
              "          google.colab.kernel.accessAllowed ? 'block' : 'none';\n",
              "\n",
              "        async function convertToInteractive(key) {\n",
              "          const element = document.querySelector('#df-d41ca0d9-eb7d-4af4-a37f-f0a4b57d9f8d');\n",
              "          const dataTable =\n",
              "            await google.colab.kernel.invokeFunction('convertToInteractive',\n",
              "                                                     [key], {});\n",
              "          if (!dataTable) return;\n",
              "\n",
              "          const docLinkHtml = 'Like what you see? Visit the ' +\n",
              "            '<a target=\"_blank\" href=https://colab.research.google.com/notebooks/data_table.ipynb>data table notebook</a>'\n",
              "            + ' to learn more about interactive tables.';\n",
              "          element.innerHTML = '';\n",
              "          dataTable['output_type'] = 'display_data';\n",
              "          await google.colab.output.renderOutput(dataTable, element);\n",
              "          const docLink = document.createElement('div');\n",
              "          docLink.innerHTML = docLinkHtml;\n",
              "          element.appendChild(docLink);\n",
              "        }\n",
              "      </script>\n",
              "    </div>\n",
              "  </div>\n",
              "  "
            ]
          },
          "metadata": {},
          "execution_count": 93
        }
      ],
      "source": [
        "# Dummy variables for City and Education\n",
        "data_merge.loc[data_merge[\"Education\"] == \"Elementary\", \"Education\"] = 0\n",
        "data_merge.loc[data_merge[\"Education\"] == \"High School\", \"Education\"] = 1\n",
        "data_merge.loc[data_merge[\"Education\"] == \"University / College\", \"Education\"] = 2\n",
        "\n",
        "dummies = pd.get_dummies(data_merge['City'], drop_first = True)\n",
        "data_merge = pd.concat([data_merge, dummies], axis = 1)\n",
        "data_merge = data_merge.drop(columns=['City'])\n",
        "\n",
        "data_merge.sample(5)"
      ]
    },
    {
      "cell_type": "markdown",
      "id": "9b861046-5968-4601-bd4b-b6510f1bf5b9",
      "metadata": {
        "id": "9b861046-5968-4601-bd4b-b6510f1bf5b9"
      },
      "source": [
        "## Data Partition"
      ]
    },
    {
      "cell_type": "code",
      "execution_count": null,
      "id": "f4bf6498-b18c-400d-9202-bb466d1272df",
      "metadata": {
        "colab": {
          "base_uri": "https://localhost:8080/",
          "height": 268
        },
        "id": "f4bf6498-b18c-400d-9202-bb466d1272df",
        "outputId": "5393ec85-8c8e-49fb-b1e2-bfe559a23b08"
      },
      "outputs": [
        {
          "output_type": "execute_result",
          "data": {
            "text/plain": [
              "               ID  LastName FirstName  Woman   Age    Salary Education  \\\n",
              "926965  2926966.0  GALLARDO    DANIEL    0.0  29.0   47000.0         2   \n",
              "241561  2241562.0    PIERCE  JENNIFER    1.0  45.0   16900.0         1   \n",
              "69303   2069304.0    MCLEOD    SANDRA    1.0  64.0   28400.0         2   \n",
              "940223  2940224.0  SESSIONS  JENNIFER    1.0  35.0  164600.0         2   \n",
              "\n",
              "        SeniorList  NbActivities  Referrals  ...  TotalGift  MinGift  MaxGift  \\\n",
              "926965         8.0           2.0        0.0  ...       10.0     10.0     10.0   \n",
              "241561         3.0           0.0        1.0  ...       40.0     40.0     40.0   \n",
              "69303          5.0           2.0        1.0  ...        0.0      0.0      0.0   \n",
              "940223         0.0           0.0        0.0  ...        0.0      0.0      0.0   \n",
              "\n",
              "        GaveLastYear  AmtLastYear  GaveThisYear  AmtThisYear  Downtown  Rural  \\\n",
              "926965           0.0          0.0           0.0          0.0         0      0   \n",
              "241561           0.0          0.0           0.0          0.0         0      0   \n",
              "69303            1.0         20.0           1.0         10.0         0      0   \n",
              "940223           0.0          0.0           1.0        500.0         0      0   \n",
              "\n",
              "        Suburban  \n",
              "926965         0  \n",
              "241561         1  \n",
              "69303          1  \n",
              "940223         1  \n",
              "\n",
              "[4 rows x 23 columns]"
            ],
            "text/html": [
              "\n",
              "  <div id=\"df-5f13be49-7b97-4ffd-a033-5ea38f42ae49\">\n",
              "    <div class=\"colab-df-container\">\n",
              "      <div>\n",
              "<style scoped>\n",
              "    .dataframe tbody tr th:only-of-type {\n",
              "        vertical-align: middle;\n",
              "    }\n",
              "\n",
              "    .dataframe tbody tr th {\n",
              "        vertical-align: top;\n",
              "    }\n",
              "\n",
              "    .dataframe thead th {\n",
              "        text-align: right;\n",
              "    }\n",
              "</style>\n",
              "<table border=\"1\" class=\"dataframe\">\n",
              "  <thead>\n",
              "    <tr style=\"text-align: right;\">\n",
              "      <th></th>\n",
              "      <th>ID</th>\n",
              "      <th>LastName</th>\n",
              "      <th>FirstName</th>\n",
              "      <th>Woman</th>\n",
              "      <th>Age</th>\n",
              "      <th>Salary</th>\n",
              "      <th>Education</th>\n",
              "      <th>SeniorList</th>\n",
              "      <th>NbActivities</th>\n",
              "      <th>Referrals</th>\n",
              "      <th>...</th>\n",
              "      <th>TotalGift</th>\n",
              "      <th>MinGift</th>\n",
              "      <th>MaxGift</th>\n",
              "      <th>GaveLastYear</th>\n",
              "      <th>AmtLastYear</th>\n",
              "      <th>GaveThisYear</th>\n",
              "      <th>AmtThisYear</th>\n",
              "      <th>Downtown</th>\n",
              "      <th>Rural</th>\n",
              "      <th>Suburban</th>\n",
              "    </tr>\n",
              "  </thead>\n",
              "  <tbody>\n",
              "    <tr>\n",
              "      <th>926965</th>\n",
              "      <td>2926966.0</td>\n",
              "      <td>GALLARDO</td>\n",
              "      <td>DANIEL</td>\n",
              "      <td>0.0</td>\n",
              "      <td>29.0</td>\n",
              "      <td>47000.0</td>\n",
              "      <td>2</td>\n",
              "      <td>8.0</td>\n",
              "      <td>2.0</td>\n",
              "      <td>0.0</td>\n",
              "      <td>...</td>\n",
              "      <td>10.0</td>\n",
              "      <td>10.0</td>\n",
              "      <td>10.0</td>\n",
              "      <td>0.0</td>\n",
              "      <td>0.0</td>\n",
              "      <td>0.0</td>\n",
              "      <td>0.0</td>\n",
              "      <td>0</td>\n",
              "      <td>0</td>\n",
              "      <td>0</td>\n",
              "    </tr>\n",
              "    <tr>\n",
              "      <th>241561</th>\n",
              "      <td>2241562.0</td>\n",
              "      <td>PIERCE</td>\n",
              "      <td>JENNIFER</td>\n",
              "      <td>1.0</td>\n",
              "      <td>45.0</td>\n",
              "      <td>16900.0</td>\n",
              "      <td>1</td>\n",
              "      <td>3.0</td>\n",
              "      <td>0.0</td>\n",
              "      <td>1.0</td>\n",
              "      <td>...</td>\n",
              "      <td>40.0</td>\n",
              "      <td>40.0</td>\n",
              "      <td>40.0</td>\n",
              "      <td>0.0</td>\n",
              "      <td>0.0</td>\n",
              "      <td>0.0</td>\n",
              "      <td>0.0</td>\n",
              "      <td>0</td>\n",
              "      <td>0</td>\n",
              "      <td>1</td>\n",
              "    </tr>\n",
              "    <tr>\n",
              "      <th>69303</th>\n",
              "      <td>2069304.0</td>\n",
              "      <td>MCLEOD</td>\n",
              "      <td>SANDRA</td>\n",
              "      <td>1.0</td>\n",
              "      <td>64.0</td>\n",
              "      <td>28400.0</td>\n",
              "      <td>2</td>\n",
              "      <td>5.0</td>\n",
              "      <td>2.0</td>\n",
              "      <td>1.0</td>\n",
              "      <td>...</td>\n",
              "      <td>0.0</td>\n",
              "      <td>0.0</td>\n",
              "      <td>0.0</td>\n",
              "      <td>1.0</td>\n",
              "      <td>20.0</td>\n",
              "      <td>1.0</td>\n",
              "      <td>10.0</td>\n",
              "      <td>0</td>\n",
              "      <td>0</td>\n",
              "      <td>1</td>\n",
              "    </tr>\n",
              "    <tr>\n",
              "      <th>940223</th>\n",
              "      <td>2940224.0</td>\n",
              "      <td>SESSIONS</td>\n",
              "      <td>JENNIFER</td>\n",
              "      <td>1.0</td>\n",
              "      <td>35.0</td>\n",
              "      <td>164600.0</td>\n",
              "      <td>2</td>\n",
              "      <td>0.0</td>\n",
              "      <td>0.0</td>\n",
              "      <td>0.0</td>\n",
              "      <td>...</td>\n",
              "      <td>0.0</td>\n",
              "      <td>0.0</td>\n",
              "      <td>0.0</td>\n",
              "      <td>0.0</td>\n",
              "      <td>0.0</td>\n",
              "      <td>1.0</td>\n",
              "      <td>500.0</td>\n",
              "      <td>0</td>\n",
              "      <td>0</td>\n",
              "      <td>1</td>\n",
              "    </tr>\n",
              "  </tbody>\n",
              "</table>\n",
              "<p>4 rows × 23 columns</p>\n",
              "</div>\n",
              "      <button class=\"colab-df-convert\" onclick=\"convertToInteractive('df-5f13be49-7b97-4ffd-a033-5ea38f42ae49')\"\n",
              "              title=\"Convert this dataframe to an interactive table.\"\n",
              "              style=\"display:none;\">\n",
              "        \n",
              "  <svg xmlns=\"http://www.w3.org/2000/svg\" height=\"24px\"viewBox=\"0 0 24 24\"\n",
              "       width=\"24px\">\n",
              "    <path d=\"M0 0h24v24H0V0z\" fill=\"none\"/>\n",
              "    <path d=\"M18.56 5.44l.94 2.06.94-2.06 2.06-.94-2.06-.94-.94-2.06-.94 2.06-2.06.94zm-11 1L8.5 8.5l.94-2.06 2.06-.94-2.06-.94L8.5 2.5l-.94 2.06-2.06.94zm10 10l.94 2.06.94-2.06 2.06-.94-2.06-.94-.94-2.06-.94 2.06-2.06.94z\"/><path d=\"M17.41 7.96l-1.37-1.37c-.4-.4-.92-.59-1.43-.59-.52 0-1.04.2-1.43.59L10.3 9.45l-7.72 7.72c-.78.78-.78 2.05 0 2.83L4 21.41c.39.39.9.59 1.41.59.51 0 1.02-.2 1.41-.59l7.78-7.78 2.81-2.81c.8-.78.8-2.07 0-2.86zM5.41 20L4 18.59l7.72-7.72 1.47 1.35L5.41 20z\"/>\n",
              "  </svg>\n",
              "      </button>\n",
              "      \n",
              "  <style>\n",
              "    .colab-df-container {\n",
              "      display:flex;\n",
              "      flex-wrap:wrap;\n",
              "      gap: 12px;\n",
              "    }\n",
              "\n",
              "    .colab-df-convert {\n",
              "      background-color: #E8F0FE;\n",
              "      border: none;\n",
              "      border-radius: 50%;\n",
              "      cursor: pointer;\n",
              "      display: none;\n",
              "      fill: #1967D2;\n",
              "      height: 32px;\n",
              "      padding: 0 0 0 0;\n",
              "      width: 32px;\n",
              "    }\n",
              "\n",
              "    .colab-df-convert:hover {\n",
              "      background-color: #E2EBFA;\n",
              "      box-shadow: 0px 1px 2px rgba(60, 64, 67, 0.3), 0px 1px 3px 1px rgba(60, 64, 67, 0.15);\n",
              "      fill: #174EA6;\n",
              "    }\n",
              "\n",
              "    [theme=dark] .colab-df-convert {\n",
              "      background-color: #3B4455;\n",
              "      fill: #D2E3FC;\n",
              "    }\n",
              "\n",
              "    [theme=dark] .colab-df-convert:hover {\n",
              "      background-color: #434B5C;\n",
              "      box-shadow: 0px 1px 3px 1px rgba(0, 0, 0, 0.15);\n",
              "      filter: drop-shadow(0px 1px 2px rgba(0, 0, 0, 0.3));\n",
              "      fill: #FFFFFF;\n",
              "    }\n",
              "  </style>\n",
              "\n",
              "      <script>\n",
              "        const buttonEl =\n",
              "          document.querySelector('#df-5f13be49-7b97-4ffd-a033-5ea38f42ae49 button.colab-df-convert');\n",
              "        buttonEl.style.display =\n",
              "          google.colab.kernel.accessAllowed ? 'block' : 'none';\n",
              "\n",
              "        async function convertToInteractive(key) {\n",
              "          const element = document.querySelector('#df-5f13be49-7b97-4ffd-a033-5ea38f42ae49');\n",
              "          const dataTable =\n",
              "            await google.colab.kernel.invokeFunction('convertToInteractive',\n",
              "                                                     [key], {});\n",
              "          if (!dataTable) return;\n",
              "\n",
              "          const docLinkHtml = 'Like what you see? Visit the ' +\n",
              "            '<a target=\"_blank\" href=https://colab.research.google.com/notebooks/data_table.ipynb>data table notebook</a>'\n",
              "            + ' to learn more about interactive tables.';\n",
              "          element.innerHTML = '';\n",
              "          dataTable['output_type'] = 'display_data';\n",
              "          await google.colab.output.renderOutput(dataTable, element);\n",
              "          const docLink = document.createElement('div');\n",
              "          docLink.innerHTML = docLinkHtml;\n",
              "          element.appendChild(docLink);\n",
              "        }\n",
              "      </script>\n",
              "    </div>\n",
              "  </div>\n",
              "  "
            ]
          },
          "metadata": {},
          "execution_count": 94
        }
      ],
      "source": [
        "from sklearn.model_selection import train_test_split\n",
        "train, validation = train_test_split(data_merge, test_size=0.3, random_state=12345) \n",
        "\n",
        "train.sample(4)"
      ]
    },
    {
      "cell_type": "markdown",
      "id": "3396591b",
      "metadata": {
        "id": "3396591b"
      },
      "source": [
        "## Prebuilt Models\n",
        "***\n",
        "\n",
        "### **Linear Regression Model**\n",
        "\n",
        "\n",
        "> The [sk-learn library](https://scikit-learn.org/stable/index.html ) offers more advanced models.\n"
      ]
    },
    {
      "cell_type": "code",
      "execution_count": null,
      "id": "0833fb2d-554c-4e3b-933c-9a35828fd912",
      "metadata": {
        "id": "0833fb2d-554c-4e3b-933c-9a35828fd912"
      },
      "outputs": [],
      "source": [
        "from sklearn import linear_model\n",
        "\n",
        "X_train = train[['Woman','Age', 'Salary','Education', 'Downtown', 'Rural', 'Suburban', 'SeniorList', 'Referrals',  'TotalGift', 'MinGift', 'MaxGift', 'AmtLastYear', 'NbActivities']] \n",
        "Y_train = train['AmtThisYear']\n",
        "X_valid = validation[['Woman','Age', 'Salary','Education', 'Downtown', 'Rural', 'Suburban', 'SeniorList', 'Referrals', 'TotalGift', 'MinGift', 'MaxGift', 'AmtLastYear', 'NbActivities']] \n",
        "Y_valid = validation['AmtThisYear']\n",
        "\n",
        "# Scaling the data\n",
        "from sklearn.preprocessing import StandardScaler  \n",
        "scaler = StandardScaler()  \n",
        "scaler.fit(X_train)  \n",
        "X_train = scaler.transform(X_train)  \n",
        "X_valid = scaler.transform(X_valid) \n",
        "\n",
        "# Apply the model\n",
        "regr = linear_model.LinearRegression()\n",
        "regr.fit(X_train,Y_train)\n",
        "regr_predict=regr.predict(X_valid)"
      ]
    },
    {
      "cell_type": "code",
      "execution_count": null,
      "id": "d47987df",
      "metadata": {
        "colab": {
          "base_uri": "https://localhost:8080/"
        },
        "id": "d47987df",
        "outputId": "862d700e-4bc7-4592-f947-4ac040614270"
      },
      "outputs": [
        {
          "output_type": "stream",
          "name": "stdout",
          "text": [
            "13.281248757180188\n",
            "7649.419327851483\n",
            "87.46095887795585\n"
          ]
        }
      ],
      "source": [
        "import numpy as np\n",
        "from sklearn import metrics\n",
        "#MAE\n",
        "print(metrics.mean_absolute_error(Y_valid,regr_predict))\n",
        "#MSE\n",
        "print(metrics.mean_squared_error(Y_valid,regr_predict))\n",
        "#RMSE\n",
        "print(np.sqrt(metrics.mean_squared_error(Y_valid,regr_predict)))"
      ]
    },
    {
      "cell_type": "markdown",
      "id": "12c58819",
      "metadata": {
        "id": "12c58819"
      },
      "source": [
        "## **Regression Tree Model**"
      ]
    },
    {
      "cell_type": "code",
      "execution_count": null,
      "id": "7fa631af",
      "metadata": {
        "id": "7fa631af"
      },
      "outputs": [],
      "source": [
        "from sklearn.tree import DecisionTreeRegressor\n",
        "\n",
        "X_train = train[['Woman','Age', 'Salary','Education', 'Downtown', 'Rural', 'Suburban', 'SeniorList', 'Referrals',  'TotalGift', 'MinGift', 'MaxGift', 'AmtLastYear', 'NbActivities']] \n",
        "Y_train = train['AmtThisYear']\n",
        "X_valid = validation[['Woman','Age', 'Salary','Education', 'Downtown', 'Rural', 'Suburban', 'SeniorList', 'Referrals',  'TotalGift', 'MinGift', 'MaxGift', 'AmtLastYear', 'NbActivities']] \n",
        "Y_valid = validation['AmtThisYear']\n",
        "\n",
        "# Sacaling the data\n",
        "scaler = StandardScaler()  \n",
        "scaler.fit(X_train)  \n",
        "X_train = scaler.transform(X_train)  \n",
        "X_valid = scaler.transform(X_valid) \n",
        "\n",
        "# Apply the model\n",
        "treeModel = DecisionTreeRegressor(max_depth=3).fit(X_train,Y_train)\n",
        "treePredict = treeModel.predict(X_valid)\n"
      ]
    },
    {
      "cell_type": "code",
      "execution_count": null,
      "id": "459eb80e",
      "metadata": {
        "colab": {
          "base_uri": "https://localhost:8080/"
        },
        "id": "459eb80e",
        "outputId": "6d77ecc5-b3cd-4ba4-dcf6-aa8719a613ed"
      },
      "outputs": [
        {
          "output_type": "stream",
          "name": "stdout",
          "text": [
            "13.280774597540304\n",
            "7672.640155238147\n",
            "87.5936079587897\n"
          ]
        }
      ],
      "source": [
        "#MAE\n",
        "print(metrics.mean_absolute_error(Y_valid, treePredict))\n",
        "#MSE\n",
        "print(metrics.mean_squared_error(Y_valid, treePredict))\n",
        "#RMSE\n",
        "print(np.sqrt(metrics.mean_squared_error(Y_valid, treePredict)))"
      ]
    },
    {
      "cell_type": "markdown",
      "id": "b8d6ab43",
      "metadata": {
        "id": "b8d6ab43"
      },
      "source": [
        "### **Other models may also be helpful for this game**\n",
        "\n",
        "Reference: https://scikit-learn.org/stable/supervised_learning.html\n",
        "\n",
        "***\n"
      ]
    },
    {
      "cell_type": "markdown",
      "id": "20aed00e",
      "metadata": {
        "id": "20aed00e"
      },
      "source": [
        "## Scoring New Data\n",
        "\n",
        "### Prepare data for scoring"
      ]
    },
    {
      "cell_type": "code",
      "execution_count": null,
      "id": "0d04c91b",
      "metadata": {
        "id": "0d04c91b"
      },
      "outputs": [],
      "source": [
        "data3 = sas_session.sasdata2dataframe(table='score_rd1', libref='cortex')\n",
        "data4 = sas_session.sasdata2dataframe(table='score', libref='cortex')"
      ]
    },
    {
      "cell_type": "markdown",
      "id": "e961f185-38c6-4d2a-b1f5-1b142c9b6d30",
      "metadata": {
        "id": "e961f185-38c6-4d2a-b1f5-1b142c9b6d30"
      },
      "source": [
        " ### Score new data based on your champion model\n",
        " \n",
        "> Pick your champion model from previous steps and use it to predict next year donations. \n",
        " \n",
        "> In this case, the linear regression model performed better than the regression tree based on the MSE criterion."
      ]
    },
    {
      "cell_type": "code",
      "execution_count": null,
      "id": "f6cf3e45",
      "metadata": {
        "colab": {
          "base_uri": "https://localhost:8080/",
          "height": 205
        },
        "id": "f6cf3e45",
        "outputId": "30091bb5-c885-4aa3-aec8-8557251c2f42"
      },
      "outputs": [
        {
          "output_type": "execute_result",
          "data": {
            "text/plain": [
              "               ID  GaveLastYear  AmtLastYear LastName FirstName  Woman   Age  \\\n",
              "343569  2343570.0           1.0         75.0  CHESSON   ANNETTE    1.0  32.0   \n",
              "370914  2370915.0           1.0         25.0   HARRIS      ALVA    1.0  62.0   \n",
              "\n",
              "         Salary Education  SeniorList  ...  Referrals  Recency  Frequency  \\\n",
              "343569  24400.0         1         0.0  ...        0.0      NaN        NaN   \n",
              "370914  93600.0         2         5.0  ...        0.0      0.0        4.0   \n",
              "\n",
              "        Seniority  TotalGift  MinGift  MaxGift  Downtown  Rural  Suburban  \n",
              "343569        NaN        0.0      0.0      0.0         0      0         1  \n",
              "370914        5.0       10.0     10.0     10.0         0      0         1  \n",
              "\n",
              "[2 rows x 21 columns]"
            ],
            "text/html": [
              "\n",
              "  <div id=\"df-e85b15fb-27ee-4fca-815a-0c344be1c826\">\n",
              "    <div class=\"colab-df-container\">\n",
              "      <div>\n",
              "<style scoped>\n",
              "    .dataframe tbody tr th:only-of-type {\n",
              "        vertical-align: middle;\n",
              "    }\n",
              "\n",
              "    .dataframe tbody tr th {\n",
              "        vertical-align: top;\n",
              "    }\n",
              "\n",
              "    .dataframe thead th {\n",
              "        text-align: right;\n",
              "    }\n",
              "</style>\n",
              "<table border=\"1\" class=\"dataframe\">\n",
              "  <thead>\n",
              "    <tr style=\"text-align: right;\">\n",
              "      <th></th>\n",
              "      <th>ID</th>\n",
              "      <th>GaveLastYear</th>\n",
              "      <th>AmtLastYear</th>\n",
              "      <th>LastName</th>\n",
              "      <th>FirstName</th>\n",
              "      <th>Woman</th>\n",
              "      <th>Age</th>\n",
              "      <th>Salary</th>\n",
              "      <th>Education</th>\n",
              "      <th>SeniorList</th>\n",
              "      <th>...</th>\n",
              "      <th>Referrals</th>\n",
              "      <th>Recency</th>\n",
              "      <th>Frequency</th>\n",
              "      <th>Seniority</th>\n",
              "      <th>TotalGift</th>\n",
              "      <th>MinGift</th>\n",
              "      <th>MaxGift</th>\n",
              "      <th>Downtown</th>\n",
              "      <th>Rural</th>\n",
              "      <th>Suburban</th>\n",
              "    </tr>\n",
              "  </thead>\n",
              "  <tbody>\n",
              "    <tr>\n",
              "      <th>343569</th>\n",
              "      <td>2343570.0</td>\n",
              "      <td>1.0</td>\n",
              "      <td>75.0</td>\n",
              "      <td>CHESSON</td>\n",
              "      <td>ANNETTE</td>\n",
              "      <td>1.0</td>\n",
              "      <td>32.0</td>\n",
              "      <td>24400.0</td>\n",
              "      <td>1</td>\n",
              "      <td>0.0</td>\n",
              "      <td>...</td>\n",
              "      <td>0.0</td>\n",
              "      <td>NaN</td>\n",
              "      <td>NaN</td>\n",
              "      <td>NaN</td>\n",
              "      <td>0.0</td>\n",
              "      <td>0.0</td>\n",
              "      <td>0.0</td>\n",
              "      <td>0</td>\n",
              "      <td>0</td>\n",
              "      <td>1</td>\n",
              "    </tr>\n",
              "    <tr>\n",
              "      <th>370914</th>\n",
              "      <td>2370915.0</td>\n",
              "      <td>1.0</td>\n",
              "      <td>25.0</td>\n",
              "      <td>HARRIS</td>\n",
              "      <td>ALVA</td>\n",
              "      <td>1.0</td>\n",
              "      <td>62.0</td>\n",
              "      <td>93600.0</td>\n",
              "      <td>2</td>\n",
              "      <td>5.0</td>\n",
              "      <td>...</td>\n",
              "      <td>0.0</td>\n",
              "      <td>0.0</td>\n",
              "      <td>4.0</td>\n",
              "      <td>5.0</td>\n",
              "      <td>10.0</td>\n",
              "      <td>10.0</td>\n",
              "      <td>10.0</td>\n",
              "      <td>0</td>\n",
              "      <td>0</td>\n",
              "      <td>1</td>\n",
              "    </tr>\n",
              "  </tbody>\n",
              "</table>\n",
              "<p>2 rows × 21 columns</p>\n",
              "</div>\n",
              "      <button class=\"colab-df-convert\" onclick=\"convertToInteractive('df-e85b15fb-27ee-4fca-815a-0c344be1c826')\"\n",
              "              title=\"Convert this dataframe to an interactive table.\"\n",
              "              style=\"display:none;\">\n",
              "        \n",
              "  <svg xmlns=\"http://www.w3.org/2000/svg\" height=\"24px\"viewBox=\"0 0 24 24\"\n",
              "       width=\"24px\">\n",
              "    <path d=\"M0 0h24v24H0V0z\" fill=\"none\"/>\n",
              "    <path d=\"M18.56 5.44l.94 2.06.94-2.06 2.06-.94-2.06-.94-.94-2.06-.94 2.06-2.06.94zm-11 1L8.5 8.5l.94-2.06 2.06-.94-2.06-.94L8.5 2.5l-.94 2.06-2.06.94zm10 10l.94 2.06.94-2.06 2.06-.94-2.06-.94-.94-2.06-.94 2.06-2.06.94z\"/><path d=\"M17.41 7.96l-1.37-1.37c-.4-.4-.92-.59-1.43-.59-.52 0-1.04.2-1.43.59L10.3 9.45l-7.72 7.72c-.78.78-.78 2.05 0 2.83L4 21.41c.39.39.9.59 1.41.59.51 0 1.02-.2 1.41-.59l7.78-7.78 2.81-2.81c.8-.78.8-2.07 0-2.86zM5.41 20L4 18.59l7.72-7.72 1.47 1.35L5.41 20z\"/>\n",
              "  </svg>\n",
              "      </button>\n",
              "      \n",
              "  <style>\n",
              "    .colab-df-container {\n",
              "      display:flex;\n",
              "      flex-wrap:wrap;\n",
              "      gap: 12px;\n",
              "    }\n",
              "\n",
              "    .colab-df-convert {\n",
              "      background-color: #E8F0FE;\n",
              "      border: none;\n",
              "      border-radius: 50%;\n",
              "      cursor: pointer;\n",
              "      display: none;\n",
              "      fill: #1967D2;\n",
              "      height: 32px;\n",
              "      padding: 0 0 0 0;\n",
              "      width: 32px;\n",
              "    }\n",
              "\n",
              "    .colab-df-convert:hover {\n",
              "      background-color: #E2EBFA;\n",
              "      box-shadow: 0px 1px 2px rgba(60, 64, 67, 0.3), 0px 1px 3px 1px rgba(60, 64, 67, 0.15);\n",
              "      fill: #174EA6;\n",
              "    }\n",
              "\n",
              "    [theme=dark] .colab-df-convert {\n",
              "      background-color: #3B4455;\n",
              "      fill: #D2E3FC;\n",
              "    }\n",
              "\n",
              "    [theme=dark] .colab-df-convert:hover {\n",
              "      background-color: #434B5C;\n",
              "      box-shadow: 0px 1px 3px 1px rgba(0, 0, 0, 0.15);\n",
              "      filter: drop-shadow(0px 1px 2px rgba(0, 0, 0, 0.3));\n",
              "      fill: #FFFFFF;\n",
              "    }\n",
              "  </style>\n",
              "\n",
              "      <script>\n",
              "        const buttonEl =\n",
              "          document.querySelector('#df-e85b15fb-27ee-4fca-815a-0c344be1c826 button.colab-df-convert');\n",
              "        buttonEl.style.display =\n",
              "          google.colab.kernel.accessAllowed ? 'block' : 'none';\n",
              "\n",
              "        async function convertToInteractive(key) {\n",
              "          const element = document.querySelector('#df-e85b15fb-27ee-4fca-815a-0c344be1c826');\n",
              "          const dataTable =\n",
              "            await google.colab.kernel.invokeFunction('convertToInteractive',\n",
              "                                                     [key], {});\n",
              "          if (!dataTable) return;\n",
              "\n",
              "          const docLinkHtml = 'Like what you see? Visit the ' +\n",
              "            '<a target=\"_blank\" href=https://colab.research.google.com/notebooks/data_table.ipynb>data table notebook</a>'\n",
              "            + ' to learn more about interactive tables.';\n",
              "          element.innerHTML = '';\n",
              "          dataTable['output_type'] = 'display_data';\n",
              "          await google.colab.output.renderOutput(dataTable, element);\n",
              "          const docLink = document.createElement('div');\n",
              "          docLink.innerHTML = docLinkHtml;\n",
              "          element.appendChild(docLink);\n",
              "        }\n",
              "      </script>\n",
              "    </div>\n",
              "  </div>\n",
              "  "
            ]
          },
          "metadata": {},
          "execution_count": 167
        }
      ],
      "source": [
        "scoring_data = pd.merge(data3, data4, on=[\"ID\"],how=\"right\")\n",
        "\n",
        "# Define as 0 missing values of: MinGift, MaxGift and TotalGift\n",
        "scoring_data[['MinGift']] = scoring_data[['MinGift']].fillna(value=0)\n",
        "scoring_data[['MaxGift']] = scoring_data[['MinGift']].fillna(value=0)\n",
        "scoring_data[['TotalGift']] = scoring_data[['MinGift']].fillna(value=0)\n",
        "\n",
        "# Dummy variables for City and Education\n",
        "scoring_data.loc[scoring_data[\"Education\"] == \"Elementary\", \"Education\"] = 0\n",
        "scoring_data.loc[scoring_data[\"Education\"] == \"High School\", \"Education\"] = 1\n",
        "scoring_data.loc[scoring_data[\"Education\"] == \"University / College\", \"Education\"] = 2\n",
        "\n",
        "dummies = pd.get_dummies(scoring_data['City'], drop_first = True)\n",
        "scoring_data = pd.concat([scoring_data, dummies], axis = 1)\n",
        "scoring_data = scoring_data.drop(columns=['City'])\n",
        "\n",
        "scoring_data.sample(2)"
      ]
    },
    {
      "cell_type": "code",
      "execution_count": null,
      "id": "05b14516",
      "metadata": {
        "colab": {
          "base_uri": "https://localhost:8080/",
          "height": 303
        },
        "id": "05b14516",
        "outputId": "ddcf27df-6949-4c74-c40d-a114aa8d15a1"
      },
      "outputs": [
        {
          "output_type": "stream",
          "name": "stderr",
          "text": [
            "/usr/local/lib/python3.8/dist-packages/sklearn/base.py:443: UserWarning: X has feature names, but LinearRegression was fitted without feature names\n",
            "  warnings.warn(\n"
          ]
        },
        {
          "output_type": "execute_result",
          "data": {
            "text/plain": [
              "               ID  GaveLastYear  AmtLastYear   LastName FirstName  Woman  \\\n",
              "393809  2393810.0           0.0          0.0    BEHRMAN   KRISTIN    1.0   \n",
              "982487  2982488.0           0.0          0.0    PACHECO     CAROL    1.0   \n",
              "196743  2196744.0           0.0          0.0  DEGOLLADO    VIOLET    1.0   \n",
              "291127  2291128.0           0.0          0.0     WRIGHT    CARRIE    1.0   \n",
              "\n",
              "         Age    Salary Education  SeniorList  ...  Recency  Frequency  \\\n",
              "393809  17.0     400.0         2         0.0  ...      NaN        NaN   \n",
              "982487  46.0  113000.0         2         1.0  ...      0.0        1.0   \n",
              "196743  28.0     500.0         1         3.0  ...      2.0        1.0   \n",
              "291127  67.0   19900.0         1         0.0  ...      0.0        1.0   \n",
              "\n",
              "        Seniority  TotalGift  MinGift  MaxGift  Downtown  Rural  Suburban  \\\n",
              "393809        NaN        0.0      0.0      0.0         1      0         0   \n",
              "982487        0.0       20.0     20.0     20.0         1      0         0   \n",
              "196743        2.0       10.0     10.0     10.0         0      0         1   \n",
              "291127        0.0       30.0     30.0     30.0         0      0         0   \n",
              "\n",
              "           Prediction  \n",
              "393809     717.191377  \n",
              "982487  205543.534021  \n",
              "196743     885.805576  \n",
              "291127   36157.478993  \n",
              "\n",
              "[4 rows x 22 columns]"
            ],
            "text/html": [
              "\n",
              "  <div id=\"df-5d60a278-e0cd-43bb-8205-3e3ed78bd50d\">\n",
              "    <div class=\"colab-df-container\">\n",
              "      <div>\n",
              "<style scoped>\n",
              "    .dataframe tbody tr th:only-of-type {\n",
              "        vertical-align: middle;\n",
              "    }\n",
              "\n",
              "    .dataframe tbody tr th {\n",
              "        vertical-align: top;\n",
              "    }\n",
              "\n",
              "    .dataframe thead th {\n",
              "        text-align: right;\n",
              "    }\n",
              "</style>\n",
              "<table border=\"1\" class=\"dataframe\">\n",
              "  <thead>\n",
              "    <tr style=\"text-align: right;\">\n",
              "      <th></th>\n",
              "      <th>ID</th>\n",
              "      <th>GaveLastYear</th>\n",
              "      <th>AmtLastYear</th>\n",
              "      <th>LastName</th>\n",
              "      <th>FirstName</th>\n",
              "      <th>Woman</th>\n",
              "      <th>Age</th>\n",
              "      <th>Salary</th>\n",
              "      <th>Education</th>\n",
              "      <th>SeniorList</th>\n",
              "      <th>...</th>\n",
              "      <th>Recency</th>\n",
              "      <th>Frequency</th>\n",
              "      <th>Seniority</th>\n",
              "      <th>TotalGift</th>\n",
              "      <th>MinGift</th>\n",
              "      <th>MaxGift</th>\n",
              "      <th>Downtown</th>\n",
              "      <th>Rural</th>\n",
              "      <th>Suburban</th>\n",
              "      <th>Prediction</th>\n",
              "    </tr>\n",
              "  </thead>\n",
              "  <tbody>\n",
              "    <tr>\n",
              "      <th>393809</th>\n",
              "      <td>2393810.0</td>\n",
              "      <td>0.0</td>\n",
              "      <td>0.0</td>\n",
              "      <td>BEHRMAN</td>\n",
              "      <td>KRISTIN</td>\n",
              "      <td>1.0</td>\n",
              "      <td>17.0</td>\n",
              "      <td>400.0</td>\n",
              "      <td>2</td>\n",
              "      <td>0.0</td>\n",
              "      <td>...</td>\n",
              "      <td>NaN</td>\n",
              "      <td>NaN</td>\n",
              "      <td>NaN</td>\n",
              "      <td>0.0</td>\n",
              "      <td>0.0</td>\n",
              "      <td>0.0</td>\n",
              "      <td>1</td>\n",
              "      <td>0</td>\n",
              "      <td>0</td>\n",
              "      <td>717.191377</td>\n",
              "    </tr>\n",
              "    <tr>\n",
              "      <th>982487</th>\n",
              "      <td>2982488.0</td>\n",
              "      <td>0.0</td>\n",
              "      <td>0.0</td>\n",
              "      <td>PACHECO</td>\n",
              "      <td>CAROL</td>\n",
              "      <td>1.0</td>\n",
              "      <td>46.0</td>\n",
              "      <td>113000.0</td>\n",
              "      <td>2</td>\n",
              "      <td>1.0</td>\n",
              "      <td>...</td>\n",
              "      <td>0.0</td>\n",
              "      <td>1.0</td>\n",
              "      <td>0.0</td>\n",
              "      <td>20.0</td>\n",
              "      <td>20.0</td>\n",
              "      <td>20.0</td>\n",
              "      <td>1</td>\n",
              "      <td>0</td>\n",
              "      <td>0</td>\n",
              "      <td>205543.534021</td>\n",
              "    </tr>\n",
              "    <tr>\n",
              "      <th>196743</th>\n",
              "      <td>2196744.0</td>\n",
              "      <td>0.0</td>\n",
              "      <td>0.0</td>\n",
              "      <td>DEGOLLADO</td>\n",
              "      <td>VIOLET</td>\n",
              "      <td>1.0</td>\n",
              "      <td>28.0</td>\n",
              "      <td>500.0</td>\n",
              "      <td>1</td>\n",
              "      <td>3.0</td>\n",
              "      <td>...</td>\n",
              "      <td>2.0</td>\n",
              "      <td>1.0</td>\n",
              "      <td>2.0</td>\n",
              "      <td>10.0</td>\n",
              "      <td>10.0</td>\n",
              "      <td>10.0</td>\n",
              "      <td>0</td>\n",
              "      <td>0</td>\n",
              "      <td>1</td>\n",
              "      <td>885.805576</td>\n",
              "    </tr>\n",
              "    <tr>\n",
              "      <th>291127</th>\n",
              "      <td>2291128.0</td>\n",
              "      <td>0.0</td>\n",
              "      <td>0.0</td>\n",
              "      <td>WRIGHT</td>\n",
              "      <td>CARRIE</td>\n",
              "      <td>1.0</td>\n",
              "      <td>67.0</td>\n",
              "      <td>19900.0</td>\n",
              "      <td>1</td>\n",
              "      <td>0.0</td>\n",
              "      <td>...</td>\n",
              "      <td>0.0</td>\n",
              "      <td>1.0</td>\n",
              "      <td>0.0</td>\n",
              "      <td>30.0</td>\n",
              "      <td>30.0</td>\n",
              "      <td>30.0</td>\n",
              "      <td>0</td>\n",
              "      <td>0</td>\n",
              "      <td>0</td>\n",
              "      <td>36157.478993</td>\n",
              "    </tr>\n",
              "  </tbody>\n",
              "</table>\n",
              "<p>4 rows × 22 columns</p>\n",
              "</div>\n",
              "      <button class=\"colab-df-convert\" onclick=\"convertToInteractive('df-5d60a278-e0cd-43bb-8205-3e3ed78bd50d')\"\n",
              "              title=\"Convert this dataframe to an interactive table.\"\n",
              "              style=\"display:none;\">\n",
              "        \n",
              "  <svg xmlns=\"http://www.w3.org/2000/svg\" height=\"24px\"viewBox=\"0 0 24 24\"\n",
              "       width=\"24px\">\n",
              "    <path d=\"M0 0h24v24H0V0z\" fill=\"none\"/>\n",
              "    <path d=\"M18.56 5.44l.94 2.06.94-2.06 2.06-.94-2.06-.94-.94-2.06-.94 2.06-2.06.94zm-11 1L8.5 8.5l.94-2.06 2.06-.94-2.06-.94L8.5 2.5l-.94 2.06-2.06.94zm10 10l.94 2.06.94-2.06 2.06-.94-2.06-.94-.94-2.06-.94 2.06-2.06.94z\"/><path d=\"M17.41 7.96l-1.37-1.37c-.4-.4-.92-.59-1.43-.59-.52 0-1.04.2-1.43.59L10.3 9.45l-7.72 7.72c-.78.78-.78 2.05 0 2.83L4 21.41c.39.39.9.59 1.41.59.51 0 1.02-.2 1.41-.59l7.78-7.78 2.81-2.81c.8-.78.8-2.07 0-2.86zM5.41 20L4 18.59l7.72-7.72 1.47 1.35L5.41 20z\"/>\n",
              "  </svg>\n",
              "      </button>\n",
              "      \n",
              "  <style>\n",
              "    .colab-df-container {\n",
              "      display:flex;\n",
              "      flex-wrap:wrap;\n",
              "      gap: 12px;\n",
              "    }\n",
              "\n",
              "    .colab-df-convert {\n",
              "      background-color: #E8F0FE;\n",
              "      border: none;\n",
              "      border-radius: 50%;\n",
              "      cursor: pointer;\n",
              "      display: none;\n",
              "      fill: #1967D2;\n",
              "      height: 32px;\n",
              "      padding: 0 0 0 0;\n",
              "      width: 32px;\n",
              "    }\n",
              "\n",
              "    .colab-df-convert:hover {\n",
              "      background-color: #E2EBFA;\n",
              "      box-shadow: 0px 1px 2px rgba(60, 64, 67, 0.3), 0px 1px 3px 1px rgba(60, 64, 67, 0.15);\n",
              "      fill: #174EA6;\n",
              "    }\n",
              "\n",
              "    [theme=dark] .colab-df-convert {\n",
              "      background-color: #3B4455;\n",
              "      fill: #D2E3FC;\n",
              "    }\n",
              "\n",
              "    [theme=dark] .colab-df-convert:hover {\n",
              "      background-color: #434B5C;\n",
              "      box-shadow: 0px 1px 3px 1px rgba(0, 0, 0, 0.15);\n",
              "      filter: drop-shadow(0px 1px 2px rgba(0, 0, 0, 0.3));\n",
              "      fill: #FFFFFF;\n",
              "    }\n",
              "  </style>\n",
              "\n",
              "      <script>\n",
              "        const buttonEl =\n",
              "          document.querySelector('#df-5d60a278-e0cd-43bb-8205-3e3ed78bd50d button.colab-df-convert');\n",
              "        buttonEl.style.display =\n",
              "          google.colab.kernel.accessAllowed ? 'block' : 'none';\n",
              "\n",
              "        async function convertToInteractive(key) {\n",
              "          const element = document.querySelector('#df-5d60a278-e0cd-43bb-8205-3e3ed78bd50d');\n",
              "          const dataTable =\n",
              "            await google.colab.kernel.invokeFunction('convertToInteractive',\n",
              "                                                     [key], {});\n",
              "          if (!dataTable) return;\n",
              "\n",
              "          const docLinkHtml = 'Like what you see? Visit the ' +\n",
              "            '<a target=\"_blank\" href=https://colab.research.google.com/notebooks/data_table.ipynb>data table notebook</a>'\n",
              "            + ' to learn more about interactive tables.';\n",
              "          element.innerHTML = '';\n",
              "          dataTable['output_type'] = 'display_data';\n",
              "          await google.colab.output.renderOutput(dataTable, element);\n",
              "          const docLink = document.createElement('div');\n",
              "          docLink.innerHTML = docLinkHtml;\n",
              "          element.appendChild(docLink);\n",
              "        }\n",
              "      </script>\n",
              "    </div>\n",
              "  </div>\n",
              "  "
            ]
          },
          "metadata": {},
          "execution_count": 168
        }
      ],
      "source": [
        "# Based on MSE criterion, the linear regression model performed better than the regression tree.\n",
        "X = scoring_data[['Woman','Age', 'Salary','Education', 'Downtown', 'Rural', 'Suburban', 'SeniorList', 'Referrals',  'TotalGift', 'MinGift', 'MaxGift', 'AmtLastYear', 'NbActivities']] \n",
        "regr_predict_end = regr.predict(X)\n",
        "\n",
        "scoring_data['Prediction'] = regr_predict_end\n",
        "scoring_data.sort_values(by=['Prediction'], inplace=True, ascending=False)\n",
        "scoring_data.sample(4)"
      ]
    },
    {
      "cell_type": "markdown",
      "id": "d86a874a",
      "metadata": {
        "id": "d86a874a"
      },
      "source": [
        "## Exporting Results to a CSV File"
      ]
    },
    {
      "cell_type": "code",
      "execution_count": null,
      "id": "669e8465",
      "metadata": {
        "id": "669e8465"
      },
      "outputs": [],
      "source": [
        "Result= scoring_data[['ID','Prediction']]"
      ]
    },
    {
      "cell_type": "code",
      "execution_count": null,
      "id": "21e1beed-b3ee-4c65-af88-fdaa5b5f0ce7",
      "metadata": {
        "id": "21e1beed-b3ee-4c65-af88-fdaa5b5f0ce7"
      },
      "outputs": [],
      "source": [
        "# Define cutoff and choose a number of rows\n",
        "NB = 60000\n",
        "submission = Result.head(NB)\n",
        "submission.to_csv('Round1_Output.csv', index=False)"
      ]
    },
    {
      "cell_type": "code",
      "execution_count": null,
      "id": "3105759d",
      "metadata": {
        "id": "3105759d"
      },
      "outputs": [],
      "source": [
        "Result1= Result['ID']\n",
        "NB = 60000\n",
        "submission = Result1.head(NB)\n",
        "submission.to_csv('Round1_OutputIDs.csv', index=False)"
      ]
    }
  ],
  "metadata": {
    "kernelspec": {
      "display_name": "Python 3 (ipykernel)",
      "language": "python",
      "name": "python3"
    },
    "language_info": {
      "codemirror_mode": {
        "name": "ipython",
        "version": 3
      },
      "file_extension": ".py",
      "mimetype": "text/x-python",
      "name": "python",
      "nbconvert_exporter": "python",
      "pygments_lexer": "ipython3",
      "version": "3.9.13"
    },
    "colab": {
      "provenance": []
    }
  },
  "nbformat": 4,
  "nbformat_minor": 5
}