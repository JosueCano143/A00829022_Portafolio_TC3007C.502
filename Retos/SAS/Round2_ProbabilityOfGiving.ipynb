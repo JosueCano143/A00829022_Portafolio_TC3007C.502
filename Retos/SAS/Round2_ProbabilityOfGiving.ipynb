{
  "cells": [
    {
      "cell_type": "markdown",
      "id": "865ca784",
      "metadata": {
        "id": "865ca784"
      },
      "source": [
        "![Python_logo](https://www.python.org/static/community_logos/python-logo-master-v3-TM.png)\n",
        "\n",
        "\n",
        "  # **Cortex Game: Round2--Probability of Giving**"
      ]
    },
    {
      "cell_type": "markdown",
      "id": "52b54409-4263-4803-9885-f1d69a1f3b09",
      "metadata": {
        "id": "52b54409-4263-4803-9885-f1d69a1f3b09"
      },
      "source": [
        "> Before playing the game, you need to connect to SASPy first.\n",
        ">\n",
        ">> If it is your first time, please follow the 4 steps mentioned below!"
      ]
    },
    {
      "cell_type": "markdown",
      "id": "498431a0-0072-4339-8518-a792a478864a",
      "metadata": {
        "id": "498431a0-0072-4339-8518-a792a478864a"
      },
      "source": [
        "***\n",
        "## **Connect to SASPy**"
      ]
    },
    {
      "cell_type": "markdown",
      "source": [
        "**0- Connect to your Google Drive folder**"
      ],
      "metadata": {
        "id": "2Or-Il2aIb7q"
      },
      "id": "2Or-Il2aIb7q"
    },
    {
      "cell_type": "code",
      "source": [
        "from google.colab import drive\n",
        "import os\n",
        "\n",
        "my_folder = \"/content/drive/MyDrive/InteligenciaArtificial_CienciaDatos\"\n",
        "drive.mount('/content/drive')\n",
        "\n",
        "os.chdir(my_folder)\n",
        "!pwd"
      ],
      "metadata": {
        "colab": {
          "base_uri": "https://localhost:8080/"
        },
        "id": "yQgVvU8DIhUn",
        "outputId": "d55d10e4-9912-427d-d761-7f3d13ff602a"
      },
      "id": "yQgVvU8DIhUn",
      "execution_count": 1,
      "outputs": [
        {
          "output_type": "stream",
          "name": "stdout",
          "text": [
            "Mounted at /content/drive\n",
            "/content/drive/MyDrive/InteligenciaArtificial_CienciaDatos\n"
          ]
        }
      ]
    },
    {
      "cell_type": "markdown",
      "id": "20c560d8-417b-46d4-8a08-25ed51675d51",
      "metadata": {
        "id": "20c560d8-417b-46d4-8a08-25ed51675d51"
      },
      "source": [
        "**1- Make sure that your Python version is 3.3 or higher**"
      ]
    },
    {
      "cell_type": "code",
      "execution_count": 2,
      "id": "391078cc-a49b-4d15-a6f0-f09729e12b03",
      "metadata": {
        "colab": {
          "base_uri": "https://localhost:8080/"
        },
        "id": "391078cc-a49b-4d15-a6f0-f09729e12b03",
        "outputId": "0496cf0a-2083-46c3-e11d-62c06374738b"
      },
      "outputs": [
        {
          "output_type": "stream",
          "name": "stdout",
          "text": [
            "3.8.15\n"
          ]
        }
      ],
      "source": [
        "from platform import python_version\n",
        "print (python_version())"
      ]
    },
    {
      "cell_type": "markdown",
      "id": "7841f1b0-4f5e-442b-a9f4-e4e9de14febc",
      "metadata": {
        "id": "7841f1b0-4f5e-442b-a9f4-e4e9de14febc"
      },
      "source": [
        "**2- Install SASPy**"
      ]
    },
    {
      "cell_type": "code",
      "execution_count": 5,
      "id": "9e7302de-3448-4cd0-be20-e8d061754f23",
      "metadata": {
        "colab": {
          "base_uri": "https://localhost:8080/"
        },
        "id": "9e7302de-3448-4cd0-be20-e8d061754f23",
        "outputId": "d7d28485-d7c1-4a17-d0c0-3061d238ce93"
      },
      "outputs": [
        {
          "output_type": "stream",
          "name": "stdout",
          "text": [
            "Looking in indexes: https://pypi.org/simple, https://us-python.pkg.dev/colab-wheels/public/simple/\n",
            "Collecting saspy\n",
            "  Downloading saspy-4.4.1.tar.gz (9.9 MB)\n",
            "\u001b[K     |████████████████████████████████| 9.9 MB 28.8 MB/s \n",
            "\u001b[?25hBuilding wheels for collected packages: saspy\n",
            "  Building wheel for saspy (setup.py) ... \u001b[?25l\u001b[?25hdone\n",
            "  Created wheel for saspy: filename=saspy-4.4.1-py3-none-any.whl size=9937304 sha256=7aeb38e28b932a438f6fb1daccad8c2884d8d752d50ff991c913fdf77ed3b0f1\n",
            "  Stored in directory: /root/.cache/pip/wheels/0a/f6/ab/f7173c8a824856c66f6fd50194bb8fd3ef93fb4f1824be8d0c\n",
            "Successfully built saspy\n",
            "Installing collected packages: saspy\n",
            "Successfully installed saspy-4.4.1\n"
          ]
        }
      ],
      "source": [
        "pip install saspy"
      ]
    },
    {
      "cell_type": "markdown",
      "id": "85058ca1-909f-436c-bbb9-dd0fdfdb19af",
      "metadata": {
        "id": "85058ca1-909f-436c-bbb9-dd0fdfdb19af"
      },
      "source": [
        "**3- Make sure that the configuration file \"sascfg_personal.py\" is correctly created**"
      ]
    },
    {
      "cell_type": "code",
      "source": [
        "%%writefile sascfg_personal.py\n",
        "SAS_config_names=['oda']\n",
        "oda = {'java' : '/usr/bin/java',\n",
        "#US Home Region 1\n",
        "'iomhost' : ['odaws01-usw2.oda.sas.com','odaws02-usw2.oda.sas.com','odaws03-usw2.oda.sas.com','odaws04-usw2.oda.sas.com'],\n",
        "'iomport' : 8591,\n",
        "'authkey' : 'oda',\n",
        "'encoding' : 'utf-8'\n",
        "}"
      ],
      "metadata": {
        "colab": {
          "base_uri": "https://localhost:8080/"
        },
        "id": "D5m25GOaKO78",
        "outputId": "73f84a1a-d494-4860-f0f9-5007b3d0f387"
      },
      "id": "D5m25GOaKO78",
      "execution_count": 3,
      "outputs": [
        {
          "output_type": "stream",
          "name": "stdout",
          "text": [
            "Overwriting sascfg_personal.py\n"
          ]
        }
      ]
    },
    {
      "cell_type": "code",
      "execution_count": 6,
      "id": "c2ce4213-2209-4b84-acf4-4a948e29b70e",
      "metadata": {
        "tags": [],
        "colab": {
          "base_uri": "https://localhost:8080/"
        },
        "id": "c2ce4213-2209-4b84-acf4-4a948e29b70e",
        "outputId": "4667f210-09fc-45bd-920c-3abbb14dbaa1"
      },
      "outputs": [
        {
          "output_type": "stream",
          "name": "stdout",
          "text": [
            "/usr/local/lib/python3.8/dist-packages/saspy/sascfg_personal.py\n"
          ]
        }
      ],
      "source": [
        "import saspy\n",
        "print(saspy.__file__.replace('__init__.py', 'sascfg_personal.py'))"
      ]
    },
    {
      "cell_type": "markdown",
      "source": [
        "**4- Create your .authinfo**"
      ],
      "metadata": {
        "id": "2WnnNnDUKasL"
      },
      "id": "2WnnNnDUKasL"
    },
    {
      "cell_type": "code",
      "source": [
        "%%writefile .authinfo\n",
        "oda user A00829022@tec.mx  password JasoueLasavo21."
      ],
      "metadata": {
        "colab": {
          "base_uri": "https://localhost:8080/"
        },
        "id": "jDLFsgDYKhFz",
        "outputId": "27739081-ed0a-4572-9271-09cfc32f4e9c"
      },
      "id": "jDLFsgDYKhFz",
      "execution_count": 7,
      "outputs": [
        {
          "output_type": "stream",
          "name": "stdout",
          "text": [
            "Overwriting .authinfo\n"
          ]
        }
      ]
    },
    {
      "cell_type": "code",
      "source": [
        "!cp .authinfo ~/.authinfo"
      ],
      "metadata": {
        "id": "lly3LThRKmrm"
      },
      "id": "lly3LThRKmrm",
      "execution_count": 8,
      "outputs": []
    },
    {
      "cell_type": "markdown",
      "id": "0960ac70-8d02-4ba5-a115-f6233f713214",
      "metadata": {
        "id": "0960ac70-8d02-4ba5-a115-f6233f713214"
      },
      "source": [
        "**4- Establish Connection (Need to do this step each time you use SASPy)**"
      ]
    },
    {
      "cell_type": "code",
      "execution_count": 9,
      "id": "7e45b4e0-ab05-4aae-9e7b-56742870da33",
      "metadata": {
        "colab": {
          "base_uri": "https://localhost:8080/"
        },
        "id": "7e45b4e0-ab05-4aae-9e7b-56742870da33",
        "outputId": "262854ed-090e-4be7-f34d-dba7772f4280"
      },
      "outputs": [
        {
          "output_type": "stream",
          "name": "stdout",
          "text": [
            "Using SAS Config named: oda\n",
            "SAS Connection established. Subprocess id is 356\n",
            "\n"
          ]
        },
        {
          "output_type": "execute_result",
          "data": {
            "text/plain": [
              "Access Method         = IOM\n",
              "SAS Config name       = oda\n",
              "SAS Config file       = /content/drive/MyDrive/InteligenciaArtificial_CienciaDatos/sascfg_personal.py\n",
              "WORK Path             = /saswork/SAS_work9D430001FED2_odaws01-usw2.oda.sas.com/SAS_workF2720001FED2_odaws01-usw2.oda.sas.com/\n",
              "SAS Version           = 9.04.01M6P11072018\n",
              "SASPy Version         = 4.4.1\n",
              "Teach me SAS          = False\n",
              "Batch                 = False\n",
              "Results               = Pandas\n",
              "SAS Session Encoding  = utf-8\n",
              "Python Encoding value = utf-8\n",
              "SAS process Pid value = 130770\n"
            ]
          },
          "metadata": {},
          "execution_count": 9
        }
      ],
      "source": [
        "sas_session = saspy.SASsession()\n",
        "sas_session"
      ]
    },
    {
      "cell_type": "markdown",
      "id": "c472cd92-026b-439e-bf51-6130edda29e2",
      "metadata": {
        "id": "c472cd92-026b-439e-bf51-6130edda29e2"
      },
      "source": [
        "***\n",
        "## Connect to Cortex Data Sets"
      ]
    },
    {
      "cell_type": "markdown",
      "id": "819d3592",
      "metadata": {
        "id": "819d3592"
      },
      "source": [
        "Load Cortex datasets from SAS Studio"
      ]
    },
    {
      "cell_type": "code",
      "execution_count": 10,
      "id": "d4204cf9",
      "metadata": {
        "colab": {
          "base_uri": "https://localhost:8080/"
        },
        "id": "d4204cf9",
        "outputId": "ce84edf3-8861-4d12-d47c-93bb3d93bac8"
      },
      "outputs": [
        {
          "output_type": "stream",
          "name": "stdout",
          "text": [
            "\n",
            "5                                                          The SAS System                      Sunday, December  4, 2022 02:04:00 AM\n",
            "\n",
            "24         ods listing close;ods html5 (id=saspy_internal) file=_tomods1 options(bitmap_mode='inline') device=svg style=HTMLBlue;\n",
            "24       ! ods graphics on / outputfmt=png;\n",
            "25         \n",
            "26         libname cortex '~/my_shared_file_links/u39842936/Cortex Data Sets';\n",
            "27         \n",
            "28         \n",
            "29         ods html5 (id=saspy_internal) close;ods listing;\n",
            "30         \n",
            "\n",
            "6                                                          The SAS System                      Sunday, December  4, 2022 02:04:00 AM\n",
            "\n",
            "31         \n"
          ]
        }
      ],
      "source": [
        "ps = sas_session.submit(\"\"\"libname cortex '~/my_shared_file_links/u39842936/Cortex Data Sets';\"\"\")\n",
        "print(ps[\"LOG\"])"
      ]
    },
    {
      "cell_type": "markdown",
      "id": "bb730ee9",
      "metadata": {
        "id": "bb730ee9"
      },
      "source": [
        "### Transform cloud SAS dataset to Python dataframe (pandas)\n",
        "\n",
        "For reference: \n",
        "\n",
        "1. [Pandas library](https://pandas.pydata.org/docs/user_guide/index.html)\n",
        "\n",
        "\n",
        "2. [sklearn.model_selection for data partition](https://scikit-learn.org/stable/modules/generated/sklearn.model_selection.train_test_split.html)"
      ]
    },
    {
      "cell_type": "code",
      "execution_count": 11,
      "id": "f298efcc",
      "metadata": {
        "id": "f298efcc"
      },
      "outputs": [],
      "source": [
        "import pandas as pd\n",
        "data1 = sas_session.sasdata2dataframe(table='hist', libref='cortex')\n",
        "data2 = sas_session.sasdata2dataframe(table='target_rd2', libref='cortex')"
      ]
    },
    {
      "cell_type": "markdown",
      "id": "beaff555-bf37-42fe-8e66-69718409b295",
      "metadata": {
        "id": "beaff555-bf37-42fe-8e66-69718409b295"
      },
      "source": [
        "## Merge the Data"
      ]
    },
    {
      "cell_type": "code",
      "execution_count": 12,
      "id": "419ef624",
      "metadata": {
        "colab": {
          "base_uri": "https://localhost:8080/",
          "height": 338
        },
        "id": "419ef624",
        "outputId": "f4d2f58f-b1e8-4f03-de7c-4b7775c3c2cf"
      },
      "outputs": [
        {
          "output_type": "execute_result",
          "data": {
            "text/plain": [
              "               ID LastName FirstName  Woman   Age    Salary  \\\n",
              "956742  2956743.0    POWER     LINDA    1.0  51.0   84400.0   \n",
              "176479  2176480.0  RICHMAN   BARBARA    1.0  60.0  124500.0   \n",
              "816119  2816120.0   SCHWER       JOE    0.0  22.0   17900.0   \n",
              "992287  2992288.0  GROOVER   HILLARY    1.0  27.0   49700.0   \n",
              "\n",
              "                   Education      City  SeniorList  NbActivities  ...  \\\n",
              "956742  University / College      City         9.0           4.0  ...   \n",
              "176479           High School     Rural         9.0           0.0  ...   \n",
              "816119  University / College  Downtown         6.0           1.0  ...   \n",
              "992287  University / College  Suburban        10.0           3.0  ...   \n",
              "\n",
              "        Frequency  Seniority  TotalGift  MinGift  MaxGift  GaveLastYear  \\\n",
              "956742        2.0        8.0      130.0     30.0    100.0           0.0   \n",
              "176479        NaN        NaN        NaN      NaN      NaN           0.0   \n",
              "816119        NaN        NaN        NaN      NaN      NaN           0.0   \n",
              "992287        3.0        6.0      295.0     20.0    250.0           0.0   \n",
              "\n",
              "        AmtLastYear  Contact  GaveThisYear  AmtThisYear  \n",
              "956742          0.0      1.0           0.0          0.0  \n",
              "176479          0.0      0.0           0.0          0.0  \n",
              "816119          0.0      0.0           0.0          0.0  \n",
              "992287          0.0      1.0           1.0         20.0  \n",
              "\n",
              "[4 rows x 22 columns]"
            ],
            "text/html": [
              "\n",
              "  <div id=\"df-0edf28dc-3073-450e-803c-ee996420d394\">\n",
              "    <div class=\"colab-df-container\">\n",
              "      <div>\n",
              "<style scoped>\n",
              "    .dataframe tbody tr th:only-of-type {\n",
              "        vertical-align: middle;\n",
              "    }\n",
              "\n",
              "    .dataframe tbody tr th {\n",
              "        vertical-align: top;\n",
              "    }\n",
              "\n",
              "    .dataframe thead th {\n",
              "        text-align: right;\n",
              "    }\n",
              "</style>\n",
              "<table border=\"1\" class=\"dataframe\">\n",
              "  <thead>\n",
              "    <tr style=\"text-align: right;\">\n",
              "      <th></th>\n",
              "      <th>ID</th>\n",
              "      <th>LastName</th>\n",
              "      <th>FirstName</th>\n",
              "      <th>Woman</th>\n",
              "      <th>Age</th>\n",
              "      <th>Salary</th>\n",
              "      <th>Education</th>\n",
              "      <th>City</th>\n",
              "      <th>SeniorList</th>\n",
              "      <th>NbActivities</th>\n",
              "      <th>...</th>\n",
              "      <th>Frequency</th>\n",
              "      <th>Seniority</th>\n",
              "      <th>TotalGift</th>\n",
              "      <th>MinGift</th>\n",
              "      <th>MaxGift</th>\n",
              "      <th>GaveLastYear</th>\n",
              "      <th>AmtLastYear</th>\n",
              "      <th>Contact</th>\n",
              "      <th>GaveThisYear</th>\n",
              "      <th>AmtThisYear</th>\n",
              "    </tr>\n",
              "  </thead>\n",
              "  <tbody>\n",
              "    <tr>\n",
              "      <th>956742</th>\n",
              "      <td>2956743.0</td>\n",
              "      <td>POWER</td>\n",
              "      <td>LINDA</td>\n",
              "      <td>1.0</td>\n",
              "      <td>51.0</td>\n",
              "      <td>84400.0</td>\n",
              "      <td>University / College</td>\n",
              "      <td>City</td>\n",
              "      <td>9.0</td>\n",
              "      <td>4.0</td>\n",
              "      <td>...</td>\n",
              "      <td>2.0</td>\n",
              "      <td>8.0</td>\n",
              "      <td>130.0</td>\n",
              "      <td>30.0</td>\n",
              "      <td>100.0</td>\n",
              "      <td>0.0</td>\n",
              "      <td>0.0</td>\n",
              "      <td>1.0</td>\n",
              "      <td>0.0</td>\n",
              "      <td>0.0</td>\n",
              "    </tr>\n",
              "    <tr>\n",
              "      <th>176479</th>\n",
              "      <td>2176480.0</td>\n",
              "      <td>RICHMAN</td>\n",
              "      <td>BARBARA</td>\n",
              "      <td>1.0</td>\n",
              "      <td>60.0</td>\n",
              "      <td>124500.0</td>\n",
              "      <td>High School</td>\n",
              "      <td>Rural</td>\n",
              "      <td>9.0</td>\n",
              "      <td>0.0</td>\n",
              "      <td>...</td>\n",
              "      <td>NaN</td>\n",
              "      <td>NaN</td>\n",
              "      <td>NaN</td>\n",
              "      <td>NaN</td>\n",
              "      <td>NaN</td>\n",
              "      <td>0.0</td>\n",
              "      <td>0.0</td>\n",
              "      <td>0.0</td>\n",
              "      <td>0.0</td>\n",
              "      <td>0.0</td>\n",
              "    </tr>\n",
              "    <tr>\n",
              "      <th>816119</th>\n",
              "      <td>2816120.0</td>\n",
              "      <td>SCHWER</td>\n",
              "      <td>JOE</td>\n",
              "      <td>0.0</td>\n",
              "      <td>22.0</td>\n",
              "      <td>17900.0</td>\n",
              "      <td>University / College</td>\n",
              "      <td>Downtown</td>\n",
              "      <td>6.0</td>\n",
              "      <td>1.0</td>\n",
              "      <td>...</td>\n",
              "      <td>NaN</td>\n",
              "      <td>NaN</td>\n",
              "      <td>NaN</td>\n",
              "      <td>NaN</td>\n",
              "      <td>NaN</td>\n",
              "      <td>0.0</td>\n",
              "      <td>0.0</td>\n",
              "      <td>0.0</td>\n",
              "      <td>0.0</td>\n",
              "      <td>0.0</td>\n",
              "    </tr>\n",
              "    <tr>\n",
              "      <th>992287</th>\n",
              "      <td>2992288.0</td>\n",
              "      <td>GROOVER</td>\n",
              "      <td>HILLARY</td>\n",
              "      <td>1.0</td>\n",
              "      <td>27.0</td>\n",
              "      <td>49700.0</td>\n",
              "      <td>University / College</td>\n",
              "      <td>Suburban</td>\n",
              "      <td>10.0</td>\n",
              "      <td>3.0</td>\n",
              "      <td>...</td>\n",
              "      <td>3.0</td>\n",
              "      <td>6.0</td>\n",
              "      <td>295.0</td>\n",
              "      <td>20.0</td>\n",
              "      <td>250.0</td>\n",
              "      <td>0.0</td>\n",
              "      <td>0.0</td>\n",
              "      <td>1.0</td>\n",
              "      <td>1.0</td>\n",
              "      <td>20.0</td>\n",
              "    </tr>\n",
              "  </tbody>\n",
              "</table>\n",
              "<p>4 rows × 22 columns</p>\n",
              "</div>\n",
              "      <button class=\"colab-df-convert\" onclick=\"convertToInteractive('df-0edf28dc-3073-450e-803c-ee996420d394')\"\n",
              "              title=\"Convert this dataframe to an interactive table.\"\n",
              "              style=\"display:none;\">\n",
              "        \n",
              "  <svg xmlns=\"http://www.w3.org/2000/svg\" height=\"24px\"viewBox=\"0 0 24 24\"\n",
              "       width=\"24px\">\n",
              "    <path d=\"M0 0h24v24H0V0z\" fill=\"none\"/>\n",
              "    <path d=\"M18.56 5.44l.94 2.06.94-2.06 2.06-.94-2.06-.94-.94-2.06-.94 2.06-2.06.94zm-11 1L8.5 8.5l.94-2.06 2.06-.94-2.06-.94L8.5 2.5l-.94 2.06-2.06.94zm10 10l.94 2.06.94-2.06 2.06-.94-2.06-.94-.94-2.06-.94 2.06-2.06.94z\"/><path d=\"M17.41 7.96l-1.37-1.37c-.4-.4-.92-.59-1.43-.59-.52 0-1.04.2-1.43.59L10.3 9.45l-7.72 7.72c-.78.78-.78 2.05 0 2.83L4 21.41c.39.39.9.59 1.41.59.51 0 1.02-.2 1.41-.59l7.78-7.78 2.81-2.81c.8-.78.8-2.07 0-2.86zM5.41 20L4 18.59l7.72-7.72 1.47 1.35L5.41 20z\"/>\n",
              "  </svg>\n",
              "      </button>\n",
              "      \n",
              "  <style>\n",
              "    .colab-df-container {\n",
              "      display:flex;\n",
              "      flex-wrap:wrap;\n",
              "      gap: 12px;\n",
              "    }\n",
              "\n",
              "    .colab-df-convert {\n",
              "      background-color: #E8F0FE;\n",
              "      border: none;\n",
              "      border-radius: 50%;\n",
              "      cursor: pointer;\n",
              "      display: none;\n",
              "      fill: #1967D2;\n",
              "      height: 32px;\n",
              "      padding: 0 0 0 0;\n",
              "      width: 32px;\n",
              "    }\n",
              "\n",
              "    .colab-df-convert:hover {\n",
              "      background-color: #E2EBFA;\n",
              "      box-shadow: 0px 1px 2px rgba(60, 64, 67, 0.3), 0px 1px 3px 1px rgba(60, 64, 67, 0.15);\n",
              "      fill: #174EA6;\n",
              "    }\n",
              "\n",
              "    [theme=dark] .colab-df-convert {\n",
              "      background-color: #3B4455;\n",
              "      fill: #D2E3FC;\n",
              "    }\n",
              "\n",
              "    [theme=dark] .colab-df-convert:hover {\n",
              "      background-color: #434B5C;\n",
              "      box-shadow: 0px 1px 3px 1px rgba(0, 0, 0, 0.15);\n",
              "      filter: drop-shadow(0px 1px 2px rgba(0, 0, 0, 0.3));\n",
              "      fill: #FFFFFF;\n",
              "    }\n",
              "  </style>\n",
              "\n",
              "      <script>\n",
              "        const buttonEl =\n",
              "          document.querySelector('#df-0edf28dc-3073-450e-803c-ee996420d394 button.colab-df-convert');\n",
              "        buttonEl.style.display =\n",
              "          google.colab.kernel.accessAllowed ? 'block' : 'none';\n",
              "\n",
              "        async function convertToInteractive(key) {\n",
              "          const element = document.querySelector('#df-0edf28dc-3073-450e-803c-ee996420d394');\n",
              "          const dataTable =\n",
              "            await google.colab.kernel.invokeFunction('convertToInteractive',\n",
              "                                                     [key], {});\n",
              "          if (!dataTable) return;\n",
              "\n",
              "          const docLinkHtml = 'Like what you see? Visit the ' +\n",
              "            '<a target=\"_blank\" href=https://colab.research.google.com/notebooks/data_table.ipynb>data table notebook</a>'\n",
              "            + ' to learn more about interactive tables.';\n",
              "          element.innerHTML = '';\n",
              "          dataTable['output_type'] = 'display_data';\n",
              "          await google.colab.output.renderOutput(dataTable, element);\n",
              "          const docLink = document.createElement('div');\n",
              "          docLink.innerHTML = docLinkHtml;\n",
              "          element.appendChild(docLink);\n",
              "        }\n",
              "      </script>\n",
              "    </div>\n",
              "  </div>\n",
              "  "
            ]
          },
          "metadata": {},
          "execution_count": 12
        }
      ],
      "source": [
        "data_merge = pd.merge(data1, data2, on=[\"ID\"],how=\"right\")\n",
        "data_merge.sample(4)"
      ]
    },
    {
      "cell_type": "markdown",
      "id": "206e4d61-0bb7-4f80-97d7-4c175c013d44",
      "metadata": {
        "id": "206e4d61-0bb7-4f80-97d7-4c175c013d44"
      },
      "source": [
        "## Treating Missing Values\n",
        "\n",
        "Please be aware that deleting all missing values can induce a selection bias. \n",
        "Some missing values are very informative. For example, when MinGift is missing, it means that the donor never gave in the past 10 years (leading to but excluding last year). Instead of deleting this information, replacing it by 0 is more appropriate!\n",
        "\n",
        "A good understanding of the business case and the data can help you come up with more appropriate strategies to deal with missing values."
      ]
    },
    {
      "cell_type": "code",
      "execution_count": 13,
      "id": "8251f011-2e56-49e1-8bdc-32a852dd2700",
      "metadata": {
        "id": "8251f011-2e56-49e1-8bdc-32a852dd2700"
      },
      "outputs": [],
      "source": [
        "# Define as 0 missing values of: MinGift, MaxGift and TotalGift\n",
        "data_merge[['MinGift']] = data_merge[['MinGift']].fillna(value=0)\n",
        "data_merge[['MaxGift']] = data_merge[['MinGift']].fillna(value=0)\n",
        "data_merge[['TotalGift']] = data_merge[['MinGift']].fillna(value=0)"
      ]
    },
    {
      "cell_type": "code",
      "execution_count": 14,
      "id": "65deaa07",
      "metadata": {
        "colab": {
          "base_uri": "https://localhost:8080/",
          "height": 268
        },
        "id": "65deaa07",
        "outputId": "bd5dae73-3383-49cb-b21f-0b55e1fbeeb6"
      },
      "outputs": [
        {
          "output_type": "execute_result",
          "data": {
            "text/plain": [
              "               ID    LastName FirstName  Woman   Age    Salary Education  \\\n",
              "454426  2454427.0  WEICHBRODT     AARON    0.0  41.0  150900.0         2   \n",
              "879299  2879300.0          KO       SUE    1.0  63.0   15300.0         2   \n",
              "341194  2341195.0     DUNIGAN   DOROTHY    1.0  81.0   29800.0         1   \n",
              "402281  2402282.0      MILLER    SAMUEL    0.0  60.0   43700.0         2   \n",
              "\n",
              "        SeniorList  NbActivities  Referrals  ...  MinGift  MaxGift  \\\n",
              "454426         3.0           1.0        0.0  ...    500.0    500.0   \n",
              "879299         6.0           2.0        0.0  ...     30.0     30.0   \n",
              "341194         5.0           2.0        0.0  ...     30.0     30.0   \n",
              "402281         2.0           0.0        0.0  ...      0.0      0.0   \n",
              "\n",
              "        GaveLastYear  AmtLastYear  Contact  GaveThisYear  AmtThisYear  \\\n",
              "454426           0.0          0.0      0.0           0.0          0.0   \n",
              "879299           1.0         10.0      1.0           0.0          0.0   \n",
              "341194           0.0          0.0      0.0           0.0          0.0   \n",
              "402281           1.0         30.0      0.0           0.0          0.0   \n",
              "\n",
              "        Downtown  Rural  Suburban  \n",
              "454426         0      1         0  \n",
              "879299         0      0         0  \n",
              "341194         0      0         1  \n",
              "402281         0      0         0  \n",
              "\n",
              "[4 rows x 24 columns]"
            ],
            "text/html": [
              "\n",
              "  <div id=\"df-7d625603-f315-4065-9c05-f55913be4777\">\n",
              "    <div class=\"colab-df-container\">\n",
              "      <div>\n",
              "<style scoped>\n",
              "    .dataframe tbody tr th:only-of-type {\n",
              "        vertical-align: middle;\n",
              "    }\n",
              "\n",
              "    .dataframe tbody tr th {\n",
              "        vertical-align: top;\n",
              "    }\n",
              "\n",
              "    .dataframe thead th {\n",
              "        text-align: right;\n",
              "    }\n",
              "</style>\n",
              "<table border=\"1\" class=\"dataframe\">\n",
              "  <thead>\n",
              "    <tr style=\"text-align: right;\">\n",
              "      <th></th>\n",
              "      <th>ID</th>\n",
              "      <th>LastName</th>\n",
              "      <th>FirstName</th>\n",
              "      <th>Woman</th>\n",
              "      <th>Age</th>\n",
              "      <th>Salary</th>\n",
              "      <th>Education</th>\n",
              "      <th>SeniorList</th>\n",
              "      <th>NbActivities</th>\n",
              "      <th>Referrals</th>\n",
              "      <th>...</th>\n",
              "      <th>MinGift</th>\n",
              "      <th>MaxGift</th>\n",
              "      <th>GaveLastYear</th>\n",
              "      <th>AmtLastYear</th>\n",
              "      <th>Contact</th>\n",
              "      <th>GaveThisYear</th>\n",
              "      <th>AmtThisYear</th>\n",
              "      <th>Downtown</th>\n",
              "      <th>Rural</th>\n",
              "      <th>Suburban</th>\n",
              "    </tr>\n",
              "  </thead>\n",
              "  <tbody>\n",
              "    <tr>\n",
              "      <th>454426</th>\n",
              "      <td>2454427.0</td>\n",
              "      <td>WEICHBRODT</td>\n",
              "      <td>AARON</td>\n",
              "      <td>0.0</td>\n",
              "      <td>41.0</td>\n",
              "      <td>150900.0</td>\n",
              "      <td>2</td>\n",
              "      <td>3.0</td>\n",
              "      <td>1.0</td>\n",
              "      <td>0.0</td>\n",
              "      <td>...</td>\n",
              "      <td>500.0</td>\n",
              "      <td>500.0</td>\n",
              "      <td>0.0</td>\n",
              "      <td>0.0</td>\n",
              "      <td>0.0</td>\n",
              "      <td>0.0</td>\n",
              "      <td>0.0</td>\n",
              "      <td>0</td>\n",
              "      <td>1</td>\n",
              "      <td>0</td>\n",
              "    </tr>\n",
              "    <tr>\n",
              "      <th>879299</th>\n",
              "      <td>2879300.0</td>\n",
              "      <td>KO</td>\n",
              "      <td>SUE</td>\n",
              "      <td>1.0</td>\n",
              "      <td>63.0</td>\n",
              "      <td>15300.0</td>\n",
              "      <td>2</td>\n",
              "      <td>6.0</td>\n",
              "      <td>2.0</td>\n",
              "      <td>0.0</td>\n",
              "      <td>...</td>\n",
              "      <td>30.0</td>\n",
              "      <td>30.0</td>\n",
              "      <td>1.0</td>\n",
              "      <td>10.0</td>\n",
              "      <td>1.0</td>\n",
              "      <td>0.0</td>\n",
              "      <td>0.0</td>\n",
              "      <td>0</td>\n",
              "      <td>0</td>\n",
              "      <td>0</td>\n",
              "    </tr>\n",
              "    <tr>\n",
              "      <th>341194</th>\n",
              "      <td>2341195.0</td>\n",
              "      <td>DUNIGAN</td>\n",
              "      <td>DOROTHY</td>\n",
              "      <td>1.0</td>\n",
              "      <td>81.0</td>\n",
              "      <td>29800.0</td>\n",
              "      <td>1</td>\n",
              "      <td>5.0</td>\n",
              "      <td>2.0</td>\n",
              "      <td>0.0</td>\n",
              "      <td>...</td>\n",
              "      <td>30.0</td>\n",
              "      <td>30.0</td>\n",
              "      <td>0.0</td>\n",
              "      <td>0.0</td>\n",
              "      <td>0.0</td>\n",
              "      <td>0.0</td>\n",
              "      <td>0.0</td>\n",
              "      <td>0</td>\n",
              "      <td>0</td>\n",
              "      <td>1</td>\n",
              "    </tr>\n",
              "    <tr>\n",
              "      <th>402281</th>\n",
              "      <td>2402282.0</td>\n",
              "      <td>MILLER</td>\n",
              "      <td>SAMUEL</td>\n",
              "      <td>0.0</td>\n",
              "      <td>60.0</td>\n",
              "      <td>43700.0</td>\n",
              "      <td>2</td>\n",
              "      <td>2.0</td>\n",
              "      <td>0.0</td>\n",
              "      <td>0.0</td>\n",
              "      <td>...</td>\n",
              "      <td>0.0</td>\n",
              "      <td>0.0</td>\n",
              "      <td>1.0</td>\n",
              "      <td>30.0</td>\n",
              "      <td>0.0</td>\n",
              "      <td>0.0</td>\n",
              "      <td>0.0</td>\n",
              "      <td>0</td>\n",
              "      <td>0</td>\n",
              "      <td>0</td>\n",
              "    </tr>\n",
              "  </tbody>\n",
              "</table>\n",
              "<p>4 rows × 24 columns</p>\n",
              "</div>\n",
              "      <button class=\"colab-df-convert\" onclick=\"convertToInteractive('df-7d625603-f315-4065-9c05-f55913be4777')\"\n",
              "              title=\"Convert this dataframe to an interactive table.\"\n",
              "              style=\"display:none;\">\n",
              "        \n",
              "  <svg xmlns=\"http://www.w3.org/2000/svg\" height=\"24px\"viewBox=\"0 0 24 24\"\n",
              "       width=\"24px\">\n",
              "    <path d=\"M0 0h24v24H0V0z\" fill=\"none\"/>\n",
              "    <path d=\"M18.56 5.44l.94 2.06.94-2.06 2.06-.94-2.06-.94-.94-2.06-.94 2.06-2.06.94zm-11 1L8.5 8.5l.94-2.06 2.06-.94-2.06-.94L8.5 2.5l-.94 2.06-2.06.94zm10 10l.94 2.06.94-2.06 2.06-.94-2.06-.94-.94-2.06-.94 2.06-2.06.94z\"/><path d=\"M17.41 7.96l-1.37-1.37c-.4-.4-.92-.59-1.43-.59-.52 0-1.04.2-1.43.59L10.3 9.45l-7.72 7.72c-.78.78-.78 2.05 0 2.83L4 21.41c.39.39.9.59 1.41.59.51 0 1.02-.2 1.41-.59l7.78-7.78 2.81-2.81c.8-.78.8-2.07 0-2.86zM5.41 20L4 18.59l7.72-7.72 1.47 1.35L5.41 20z\"/>\n",
              "  </svg>\n",
              "      </button>\n",
              "      \n",
              "  <style>\n",
              "    .colab-df-container {\n",
              "      display:flex;\n",
              "      flex-wrap:wrap;\n",
              "      gap: 12px;\n",
              "    }\n",
              "\n",
              "    .colab-df-convert {\n",
              "      background-color: #E8F0FE;\n",
              "      border: none;\n",
              "      border-radius: 50%;\n",
              "      cursor: pointer;\n",
              "      display: none;\n",
              "      fill: #1967D2;\n",
              "      height: 32px;\n",
              "      padding: 0 0 0 0;\n",
              "      width: 32px;\n",
              "    }\n",
              "\n",
              "    .colab-df-convert:hover {\n",
              "      background-color: #E2EBFA;\n",
              "      box-shadow: 0px 1px 2px rgba(60, 64, 67, 0.3), 0px 1px 3px 1px rgba(60, 64, 67, 0.15);\n",
              "      fill: #174EA6;\n",
              "    }\n",
              "\n",
              "    [theme=dark] .colab-df-convert {\n",
              "      background-color: #3B4455;\n",
              "      fill: #D2E3FC;\n",
              "    }\n",
              "\n",
              "    [theme=dark] .colab-df-convert:hover {\n",
              "      background-color: #434B5C;\n",
              "      box-shadow: 0px 1px 3px 1px rgba(0, 0, 0, 0.15);\n",
              "      filter: drop-shadow(0px 1px 2px rgba(0, 0, 0, 0.3));\n",
              "      fill: #FFFFFF;\n",
              "    }\n",
              "  </style>\n",
              "\n",
              "      <script>\n",
              "        const buttonEl =\n",
              "          document.querySelector('#df-7d625603-f315-4065-9c05-f55913be4777 button.colab-df-convert');\n",
              "        buttonEl.style.display =\n",
              "          google.colab.kernel.accessAllowed ? 'block' : 'none';\n",
              "\n",
              "        async function convertToInteractive(key) {\n",
              "          const element = document.querySelector('#df-7d625603-f315-4065-9c05-f55913be4777');\n",
              "          const dataTable =\n",
              "            await google.colab.kernel.invokeFunction('convertToInteractive',\n",
              "                                                     [key], {});\n",
              "          if (!dataTable) return;\n",
              "\n",
              "          const docLinkHtml = 'Like what you see? Visit the ' +\n",
              "            '<a target=\"_blank\" href=https://colab.research.google.com/notebooks/data_table.ipynb>data table notebook</a>'\n",
              "            + ' to learn more about interactive tables.';\n",
              "          element.innerHTML = '';\n",
              "          dataTable['output_type'] = 'display_data';\n",
              "          await google.colab.output.renderOutput(dataTable, element);\n",
              "          const docLink = document.createElement('div');\n",
              "          docLink.innerHTML = docLinkHtml;\n",
              "          element.appendChild(docLink);\n",
              "        }\n",
              "      </script>\n",
              "    </div>\n",
              "  </div>\n",
              "  "
            ]
          },
          "metadata": {},
          "execution_count": 14
        }
      ],
      "source": [
        "# Dummy variables for City and Education\n",
        "data_merge.loc[data_merge[\"Education\"] == \"Elementary\", \"Education\"] = 0\n",
        "data_merge.loc[data_merge[\"Education\"] == \"High School\", \"Education\"] = 1\n",
        "data_merge.loc[data_merge[\"Education\"] == \"University / College\", \"Education\"] = 2\n",
        "\n",
        "dummies = pd.get_dummies(data_merge['City'], drop_first = True)\n",
        "data_merge = pd.concat([data_merge, dummies], axis = 1)\n",
        "data_merge = data_merge.drop(columns=['City'])\n",
        "data_merge.sample(4)"
      ]
    },
    {
      "cell_type": "markdown",
      "id": "780fc71d-171e-4bb7-9e0c-89572856cc5f",
      "metadata": {
        "id": "780fc71d-171e-4bb7-9e0c-89572856cc5f"
      },
      "source": [
        "## Data Partition"
      ]
    },
    {
      "cell_type": "code",
      "execution_count": 15,
      "id": "859f053e-5121-4edd-9d99-bed485d7d0cb",
      "metadata": {
        "colab": {
          "base_uri": "https://localhost:8080/",
          "height": 268
        },
        "id": "859f053e-5121-4edd-9d99-bed485d7d0cb",
        "outputId": "25a44f56-fd97-457d-b727-282169b6bd56"
      },
      "outputs": [
        {
          "output_type": "execute_result",
          "data": {
            "text/plain": [
              "               ID LastName FirstName  Woman   Age    Salary Education  \\\n",
              "182777  2182778.0  HALLOCK    THOMAS    0.0  26.0  211300.0         2   \n",
              "804843  2804844.0   PINEDA      LUCY    1.0  90.0   28500.0         2   \n",
              "956632  2956633.0     RUIZ   THERESA    1.0  31.0   51900.0         2   \n",
              "571241  2571242.0   TEMPLE   SHIRLEY    1.0  70.0   35200.0         1   \n",
              "\n",
              "        SeniorList  NbActivities  Referrals  ...  MinGift  MaxGift  \\\n",
              "182777         6.0           1.0        4.0  ...     10.0     10.0   \n",
              "804843         3.0           0.0        0.0  ...      0.0      0.0   \n",
              "956632        10.0           4.0        3.0  ...     20.0     20.0   \n",
              "571241         6.0           0.0        0.0  ...      0.0      0.0   \n",
              "\n",
              "        GaveLastYear  AmtLastYear  Contact  GaveThisYear  AmtThisYear  \\\n",
              "182777           0.0          0.0      0.0           0.0          0.0   \n",
              "804843           0.0          0.0      0.0           0.0          0.0   \n",
              "956632           1.0         20.0      0.0           1.0        200.0   \n",
              "571241           0.0          0.0      0.0           0.0          0.0   \n",
              "\n",
              "        Downtown  Rural  Suburban  \n",
              "182777         0      0         0  \n",
              "804843         0      0         1  \n",
              "956632         1      0         0  \n",
              "571241         0      0         1  \n",
              "\n",
              "[4 rows x 24 columns]"
            ],
            "text/html": [
              "\n",
              "  <div id=\"df-bb4eb159-a6fc-41c5-bf3d-2c44c0f52f12\">\n",
              "    <div class=\"colab-df-container\">\n",
              "      <div>\n",
              "<style scoped>\n",
              "    .dataframe tbody tr th:only-of-type {\n",
              "        vertical-align: middle;\n",
              "    }\n",
              "\n",
              "    .dataframe tbody tr th {\n",
              "        vertical-align: top;\n",
              "    }\n",
              "\n",
              "    .dataframe thead th {\n",
              "        text-align: right;\n",
              "    }\n",
              "</style>\n",
              "<table border=\"1\" class=\"dataframe\">\n",
              "  <thead>\n",
              "    <tr style=\"text-align: right;\">\n",
              "      <th></th>\n",
              "      <th>ID</th>\n",
              "      <th>LastName</th>\n",
              "      <th>FirstName</th>\n",
              "      <th>Woman</th>\n",
              "      <th>Age</th>\n",
              "      <th>Salary</th>\n",
              "      <th>Education</th>\n",
              "      <th>SeniorList</th>\n",
              "      <th>NbActivities</th>\n",
              "      <th>Referrals</th>\n",
              "      <th>...</th>\n",
              "      <th>MinGift</th>\n",
              "      <th>MaxGift</th>\n",
              "      <th>GaveLastYear</th>\n",
              "      <th>AmtLastYear</th>\n",
              "      <th>Contact</th>\n",
              "      <th>GaveThisYear</th>\n",
              "      <th>AmtThisYear</th>\n",
              "      <th>Downtown</th>\n",
              "      <th>Rural</th>\n",
              "      <th>Suburban</th>\n",
              "    </tr>\n",
              "  </thead>\n",
              "  <tbody>\n",
              "    <tr>\n",
              "      <th>182777</th>\n",
              "      <td>2182778.0</td>\n",
              "      <td>HALLOCK</td>\n",
              "      <td>THOMAS</td>\n",
              "      <td>0.0</td>\n",
              "      <td>26.0</td>\n",
              "      <td>211300.0</td>\n",
              "      <td>2</td>\n",
              "      <td>6.0</td>\n",
              "      <td>1.0</td>\n",
              "      <td>4.0</td>\n",
              "      <td>...</td>\n",
              "      <td>10.0</td>\n",
              "      <td>10.0</td>\n",
              "      <td>0.0</td>\n",
              "      <td>0.0</td>\n",
              "      <td>0.0</td>\n",
              "      <td>0.0</td>\n",
              "      <td>0.0</td>\n",
              "      <td>0</td>\n",
              "      <td>0</td>\n",
              "      <td>0</td>\n",
              "    </tr>\n",
              "    <tr>\n",
              "      <th>804843</th>\n",
              "      <td>2804844.0</td>\n",
              "      <td>PINEDA</td>\n",
              "      <td>LUCY</td>\n",
              "      <td>1.0</td>\n",
              "      <td>90.0</td>\n",
              "      <td>28500.0</td>\n",
              "      <td>2</td>\n",
              "      <td>3.0</td>\n",
              "      <td>0.0</td>\n",
              "      <td>0.0</td>\n",
              "      <td>...</td>\n",
              "      <td>0.0</td>\n",
              "      <td>0.0</td>\n",
              "      <td>0.0</td>\n",
              "      <td>0.0</td>\n",
              "      <td>0.0</td>\n",
              "      <td>0.0</td>\n",
              "      <td>0.0</td>\n",
              "      <td>0</td>\n",
              "      <td>0</td>\n",
              "      <td>1</td>\n",
              "    </tr>\n",
              "    <tr>\n",
              "      <th>956632</th>\n",
              "      <td>2956633.0</td>\n",
              "      <td>RUIZ</td>\n",
              "      <td>THERESA</td>\n",
              "      <td>1.0</td>\n",
              "      <td>31.0</td>\n",
              "      <td>51900.0</td>\n",
              "      <td>2</td>\n",
              "      <td>10.0</td>\n",
              "      <td>4.0</td>\n",
              "      <td>3.0</td>\n",
              "      <td>...</td>\n",
              "      <td>20.0</td>\n",
              "      <td>20.0</td>\n",
              "      <td>1.0</td>\n",
              "      <td>20.0</td>\n",
              "      <td>0.0</td>\n",
              "      <td>1.0</td>\n",
              "      <td>200.0</td>\n",
              "      <td>1</td>\n",
              "      <td>0</td>\n",
              "      <td>0</td>\n",
              "    </tr>\n",
              "    <tr>\n",
              "      <th>571241</th>\n",
              "      <td>2571242.0</td>\n",
              "      <td>TEMPLE</td>\n",
              "      <td>SHIRLEY</td>\n",
              "      <td>1.0</td>\n",
              "      <td>70.0</td>\n",
              "      <td>35200.0</td>\n",
              "      <td>1</td>\n",
              "      <td>6.0</td>\n",
              "      <td>0.0</td>\n",
              "      <td>0.0</td>\n",
              "      <td>...</td>\n",
              "      <td>0.0</td>\n",
              "      <td>0.0</td>\n",
              "      <td>0.0</td>\n",
              "      <td>0.0</td>\n",
              "      <td>0.0</td>\n",
              "      <td>0.0</td>\n",
              "      <td>0.0</td>\n",
              "      <td>0</td>\n",
              "      <td>0</td>\n",
              "      <td>1</td>\n",
              "    </tr>\n",
              "  </tbody>\n",
              "</table>\n",
              "<p>4 rows × 24 columns</p>\n",
              "</div>\n",
              "      <button class=\"colab-df-convert\" onclick=\"convertToInteractive('df-bb4eb159-a6fc-41c5-bf3d-2c44c0f52f12')\"\n",
              "              title=\"Convert this dataframe to an interactive table.\"\n",
              "              style=\"display:none;\">\n",
              "        \n",
              "  <svg xmlns=\"http://www.w3.org/2000/svg\" height=\"24px\"viewBox=\"0 0 24 24\"\n",
              "       width=\"24px\">\n",
              "    <path d=\"M0 0h24v24H0V0z\" fill=\"none\"/>\n",
              "    <path d=\"M18.56 5.44l.94 2.06.94-2.06 2.06-.94-2.06-.94-.94-2.06-.94 2.06-2.06.94zm-11 1L8.5 8.5l.94-2.06 2.06-.94-2.06-.94L8.5 2.5l-.94 2.06-2.06.94zm10 10l.94 2.06.94-2.06 2.06-.94-2.06-.94-.94-2.06-.94 2.06-2.06.94z\"/><path d=\"M17.41 7.96l-1.37-1.37c-.4-.4-.92-.59-1.43-.59-.52 0-1.04.2-1.43.59L10.3 9.45l-7.72 7.72c-.78.78-.78 2.05 0 2.83L4 21.41c.39.39.9.59 1.41.59.51 0 1.02-.2 1.41-.59l7.78-7.78 2.81-2.81c.8-.78.8-2.07 0-2.86zM5.41 20L4 18.59l7.72-7.72 1.47 1.35L5.41 20z\"/>\n",
              "  </svg>\n",
              "      </button>\n",
              "      \n",
              "  <style>\n",
              "    .colab-df-container {\n",
              "      display:flex;\n",
              "      flex-wrap:wrap;\n",
              "      gap: 12px;\n",
              "    }\n",
              "\n",
              "    .colab-df-convert {\n",
              "      background-color: #E8F0FE;\n",
              "      border: none;\n",
              "      border-radius: 50%;\n",
              "      cursor: pointer;\n",
              "      display: none;\n",
              "      fill: #1967D2;\n",
              "      height: 32px;\n",
              "      padding: 0 0 0 0;\n",
              "      width: 32px;\n",
              "    }\n",
              "\n",
              "    .colab-df-convert:hover {\n",
              "      background-color: #E2EBFA;\n",
              "      box-shadow: 0px 1px 2px rgba(60, 64, 67, 0.3), 0px 1px 3px 1px rgba(60, 64, 67, 0.15);\n",
              "      fill: #174EA6;\n",
              "    }\n",
              "\n",
              "    [theme=dark] .colab-df-convert {\n",
              "      background-color: #3B4455;\n",
              "      fill: #D2E3FC;\n",
              "    }\n",
              "\n",
              "    [theme=dark] .colab-df-convert:hover {\n",
              "      background-color: #434B5C;\n",
              "      box-shadow: 0px 1px 3px 1px rgba(0, 0, 0, 0.15);\n",
              "      filter: drop-shadow(0px 1px 2px rgba(0, 0, 0, 0.3));\n",
              "      fill: #FFFFFF;\n",
              "    }\n",
              "  </style>\n",
              "\n",
              "      <script>\n",
              "        const buttonEl =\n",
              "          document.querySelector('#df-bb4eb159-a6fc-41c5-bf3d-2c44c0f52f12 button.colab-df-convert');\n",
              "        buttonEl.style.display =\n",
              "          google.colab.kernel.accessAllowed ? 'block' : 'none';\n",
              "\n",
              "        async function convertToInteractive(key) {\n",
              "          const element = document.querySelector('#df-bb4eb159-a6fc-41c5-bf3d-2c44c0f52f12');\n",
              "          const dataTable =\n",
              "            await google.colab.kernel.invokeFunction('convertToInteractive',\n",
              "                                                     [key], {});\n",
              "          if (!dataTable) return;\n",
              "\n",
              "          const docLinkHtml = 'Like what you see? Visit the ' +\n",
              "            '<a target=\"_blank\" href=https://colab.research.google.com/notebooks/data_table.ipynb>data table notebook</a>'\n",
              "            + ' to learn more about interactive tables.';\n",
              "          element.innerHTML = '';\n",
              "          dataTable['output_type'] = 'display_data';\n",
              "          await google.colab.output.renderOutput(dataTable, element);\n",
              "          const docLink = document.createElement('div');\n",
              "          docLink.innerHTML = docLinkHtml;\n",
              "          element.appendChild(docLink);\n",
              "        }\n",
              "      </script>\n",
              "    </div>\n",
              "  </div>\n",
              "  "
            ]
          },
          "metadata": {},
          "execution_count": 15
        }
      ],
      "source": [
        "from sklearn.model_selection import train_test_split\n",
        "train, validation = train_test_split(data_merge, test_size=0.4, random_state=12345) \n",
        "train.sample(4)"
      ]
    },
    {
      "cell_type": "markdown",
      "id": "edcdac44-c84b-4fe5-881f-05a2ecb98e6a",
      "metadata": {
        "id": "edcdac44-c84b-4fe5-881f-05a2ecb98e6a"
      },
      "source": [
        "# Prebuilt Models\n",
        "\n",
        "The sk-learn library offers more advanced models. \n",
        "\n",
        "sk-learn library: https://scikit-learn.org/stable/index.html  \n",
        "\n",
        "## Neural Network Model"
      ]
    },
    {
      "cell_type": "code",
      "execution_count": 52,
      "id": "9f33ea4c",
      "metadata": {
        "id": "9f33ea4c",
        "colab": {
          "base_uri": "https://localhost:8080/"
        },
        "outputId": "d75496fa-e952-4f2d-9c03-72c3b136aa6b"
      },
      "outputs": [
        {
          "output_type": "stream",
          "name": "stderr",
          "text": [
            "/usr/local/lib/python3.8/dist-packages/sklearn/neural_network/_multilayer_perceptron.py:692: ConvergenceWarning: Stochastic Optimizer: Maximum iterations (15) reached and the optimization hasn't converged yet.\n",
            "  warnings.warn(\n"
          ]
        }
      ],
      "source": [
        "from sklearn.linear_model import LogisticRegression\n",
        "\n",
        "X_train = train[['Age', 'Salary','MinGift', 'GaveLastYear','Contact', 'Woman', 'NbActivities', 'TotalGift']] \n",
        "Y_train = train['GaveThisYear']\n",
        "X_valid = validation[['Age', 'Salary','MinGift', 'GaveLastYear','Contact', 'Woman', 'NbActivities', 'TotalGift']] \n",
        "Y_valid = validation['GaveThisYear']\n",
        "\n",
        "# Scaling data\n",
        "from sklearn.preprocessing import StandardScaler  \n",
        "scaler = StandardScaler()  \n",
        "scaler.fit(X_train)  \n",
        "X_train = scaler.transform(X_train)  \n",
        "X_valid = scaler.transform(X_valid) \n",
        "\n",
        "# Apply model\n",
        "from sklearn.neural_network import MLPClassifier\n",
        "neuralNet = MLPClassifier(hidden_layer_sizes=(10,7,3), max_iter=15, activation='relu', solver='adam')\n",
        "neuralNet.fit(X_train,Y_train)\n",
        "neuralNet_predict = neuralNet.predict(X_valid)"
      ]
    },
    {
      "cell_type": "code",
      "execution_count": 53,
      "id": "a6ff2946",
      "metadata": {
        "colab": {
          "base_uri": "https://localhost:8080/"
        },
        "id": "a6ff2946",
        "outputId": "c02dcd3d-4374-4c0c-efed-742ac4bac2cf"
      },
      "outputs": [
        {
          "output_type": "stream",
          "name": "stdout",
          "text": [
            "[[336829   3384]\n",
            " [ 54253   5534]]\n"
          ]
        }
      ],
      "source": [
        "# Confusion matrix\n",
        "import numpy as np\n",
        "from sklearn.metrics import confusion_matrix\n",
        "\n",
        "confusion_matrix = confusion_matrix(Y_valid, neuralNet_predict)\n",
        "print(confusion_matrix)"
      ]
    },
    {
      "cell_type": "code",
      "execution_count": 54,
      "id": "21803ab0-c771-4a27-b0ab-81a2a304f719",
      "metadata": {
        "colab": {
          "base_uri": "https://localhost:8080/"
        },
        "id": "21803ab0-c771-4a27-b0ab-81a2a304f719",
        "outputId": "2374476e-2eb2-4055-c768-79b52ef4b206"
      },
      "outputs": [
        {
          "output_type": "stream",
          "name": "stdout",
          "text": [
            "              precision    recall  f1-score   support\n",
            "\n",
            "         0.0       0.86      0.99      0.92    340213\n",
            "         1.0       0.62      0.09      0.16     59787\n",
            "\n",
            "    accuracy                           0.86    400000\n",
            "   macro avg       0.74      0.54      0.54    400000\n",
            "weighted avg       0.83      0.86      0.81    400000\n",
            "\n"
          ]
        }
      ],
      "source": [
        "from sklearn.metrics import classification_report\n",
        "print(classification_report(Y_valid, neuralNet_predict))"
      ]
    },
    {
      "cell_type": "code",
      "execution_count": 55,
      "id": "d27a7bb1-e651-474a-ae3e-4f09540815e6",
      "metadata": {
        "colab": {
          "base_uri": "https://localhost:8080/",
          "height": 307
        },
        "id": "d27a7bb1-e651-474a-ae3e-4f09540815e6",
        "outputId": "c1518419-ea87-47a7-885e-7a7175d6469b"
      },
      "outputs": [
        {
          "output_type": "display_data",
          "data": {
            "text/plain": [
              "<Figure size 432x288 with 1 Axes>"
            ],
            "image/png": "[encoded data removed]"
          },
          "metadata": {
            "needs_background": "light"
          }
        }
      ],
      "source": [
        "# Graphic of results\n",
        "from sklearn.metrics import roc_auc_score\n",
        "from sklearn.metrics import roc_curve\n",
        "import matplotlib.pyplot as plt \n",
        "\n",
        "plt.rc(\"font\", size=14)\n",
        "logit_roc_auc = roc_auc_score(Y_valid, neuralNet.predict(X_valid))\n",
        "fpr, tpr, thresholds = roc_curve(Y_valid, neuralNet.predict_proba(X_valid)[:,1])\n",
        "plt.figure()\n",
        "plt.plot(fpr, tpr, label='Logistic Regression (area = %0.2f)' % logit_roc_auc)\n",
        "plt.plot([0, 1], [0, 1],'r--')\n",
        "plt.xlim([0.0, 1.0])\n",
        "plt.ylim([0.0, 1.05])\n",
        "plt.xlabel('False Positive Rate')\n",
        "plt.ylabel('True Positive Rate')\n",
        "plt.title('Receiver operating characteristic')\n",
        "plt.legend(loc=\"lower right\")\n",
        "plt.savefig('Log_ROC')\n",
        "plt.show()"
      ]
    },
    {
      "cell_type": "markdown",
      "id": "a6f78891",
      "metadata": {
        "id": "a6f78891"
      },
      "source": [
        "## Decision Tree Model"
      ]
    },
    {
      "cell_type": "code",
      "execution_count": 20,
      "id": "0560fcdd",
      "metadata": {
        "colab": {
          "base_uri": "https://localhost:8080/"
        },
        "id": "0560fcdd",
        "outputId": "04336e54-effd-4d23-df57-4f72d675777f"
      },
      "outputs": [
        {
          "output_type": "stream",
          "name": "stdout",
          "text": [
            "[0.11072745 0.1603026  0.40548953 ... 0.07729761 0.63065804 0.10409085]\n"
          ]
        }
      ],
      "source": [
        "from sklearn.tree import DecisionTreeClassifier\n",
        "\n",
        "X_train = train[['Age','Salary','MinGift','GaveLastYear','Contact','Woman', 'NbActivities', 'TotalGift']] \n",
        "Y_train = train['GaveThisYear']\n",
        "X_valid = validation[['Age','Salary','MinGift','GaveLastYear','Contact','Woman', 'NbActivities', 'TotalGift']] \n",
        "Y_valid = validation['GaveThisYear']\n",
        "\n",
        "# Apply model\n",
        "DT_model = DecisionTreeClassifier(max_depth=5, criterion=\"entropy\").fit(X_train,Y_train)\n",
        "# Predictions on testing data\n",
        "DT_predict_proba = DT_model.predict_proba(X_valid) \n",
        "DT_predict = DT_model.predict(X_valid) \n",
        "# Probabilities for each class\n",
        "DT_probs = DT_model.predict_proba(X_valid)[:, 1]\n",
        "print(DT_probs)"
      ]
    },
    {
      "cell_type": "code",
      "execution_count": 21,
      "id": "a634a11d",
      "metadata": {
        "colab": {
          "base_uri": "https://localhost:8080/"
        },
        "id": "a634a11d",
        "outputId": "8bbf510c-6008-424c-b10d-487704d7ee81"
      },
      "outputs": [
        {
          "output_type": "stream",
          "name": "stdout",
          "text": [
            "[[335707   4506]\n",
            " [ 52949   6838]]\n"
          ]
        }
      ],
      "source": [
        "# Confusion matrix\n",
        "import numpy as np\n",
        "from sklearn.metrics import confusion_matrix\n",
        "from sklearn.metrics import confusion_matrix\n",
        "\n",
        "confusion_matrix = confusion_matrix(Y_valid, DT_predict)\n",
        "print(confusion_matrix)"
      ]
    },
    {
      "cell_type": "code",
      "execution_count": 22,
      "id": "44067449-2008-4519-aaf9-af32945e9fae",
      "metadata": {
        "colab": {
          "base_uri": "https://localhost:8080/"
        },
        "id": "44067449-2008-4519-aaf9-af32945e9fae",
        "outputId": "ee386bbf-15ff-42ef-bc84-3f3e5fb860b6"
      },
      "outputs": [
        {
          "output_type": "stream",
          "name": "stdout",
          "text": [
            "              precision    recall  f1-score   support\n",
            "\n",
            "         0.0       0.86      0.99      0.92    340213\n",
            "         1.0       0.60      0.11      0.19     59787\n",
            "\n",
            "    accuracy                           0.86    400000\n",
            "   macro avg       0.73      0.55      0.56    400000\n",
            "weighted avg       0.82      0.86      0.81    400000\n",
            "\n"
          ]
        }
      ],
      "source": [
        "from sklearn.metrics import classification_report\n",
        "print(classification_report(Y_valid, DT_predict))"
      ]
    },
    {
      "cell_type": "code",
      "execution_count": 32,
      "id": "51155944-104f-44c9-baf6-29bcb72446a9",
      "metadata": {
        "colab": {
          "base_uri": "https://localhost:8080/",
          "height": 307
        },
        "id": "51155944-104f-44c9-baf6-29bcb72446a9",
        "outputId": "b1fca3ac-5af2-486e-82d9-e05eff276ab8"
      },
      "outputs": [
        {
          "output_type": "display_data",
          "data": {
            "text/plain": [
              "<Figure size 432x288 with 1 Axes>"
            ],
            "image/png": "[encoded data removed]"
          },
          "metadata": {
            "needs_background": "light"
          }
        }
      ],
      "source": [
        "# Graphic of results\n",
        "from sklearn.metrics import roc_auc_score\n",
        "from sklearn.metrics import roc_curve\n",
        "import matplotlib.pyplot as plt \n",
        "\n",
        "plt.rc(\"font\", size=14)\n",
        "DT_roc_auc = roc_auc_score(Y_valid, DT_model.predict(X_valid))\n",
        "fpr, tpr, thresholds = roc_curve(Y_valid, DT_model.predict_proba(X_valid)[:,1])\n",
        "plt.figure()\n",
        "plt.plot(fpr, tpr, label='Decision tree (area = %0.2f)' % DT_roc_auc)\n",
        "plt.plot([0, 1], [0, 1],'r--')\n",
        "plt.xlim([0.0, 1.0])\n",
        "plt.ylim([0.0, 1.05])\n",
        "plt.xlabel('False Positive Rate')\n",
        "plt.ylabel('True Positive Rate')\n",
        "plt.title('Receiver operating characteristic')\n",
        "plt.legend(loc=\"lower right\")\n",
        "plt.savefig('DT_ROC')\n",
        "plt.show()"
      ]
    },
    {
      "cell_type": "markdown",
      "id": "195cb6d4",
      "metadata": {
        "id": "195cb6d4"
      },
      "source": [
        "### *Other models may also be helpful for this game*\n",
        "\n",
        "Reference: https://scikit-learn.org/stable/supervised_learning.html\n",
        "    "
      ]
    },
    {
      "cell_type": "markdown",
      "id": "95983c35",
      "metadata": {
        "id": "95983c35"
      },
      "source": [
        "## Scoring New Data\n",
        "\n",
        "### Prepare data for scoring"
      ]
    },
    {
      "cell_type": "code",
      "execution_count": 33,
      "id": "d1639b73",
      "metadata": {
        "id": "d1639b73"
      },
      "outputs": [],
      "source": [
        "data3 = sas_session.sasdata2dataframe(table='score', libref='cortex')\n",
        "data4 = sas_session.sasdata2dataframe(table='score_rd2_contact', libref='cortex')\n",
        "data5 = sas_session.sasdata2dataframe(table='SCORE_RD2_NOCONTACT', libref='cortex')"
      ]
    },
    {
      "cell_type": "markdown",
      "id": "6aaee9cc-8511-41a8-b0ab-a882d405d88a",
      "metadata": {
        "id": "6aaee9cc-8511-41a8-b0ab-a882d405d88a"
      },
      "source": [
        " ### Score new data based on your champion model\n",
        " \n",
        " Pick your champion model from previous steps and use it to predict next year donations. \n",
        " \n",
        " In this case, the Decision Tree model performed better than the Neural Network model based on the AUC criterion."
      ]
    },
    {
      "cell_type": "markdown",
      "id": "685c9354-243e-434e-80d6-fcf57297e4b9",
      "metadata": {
        "id": "685c9354-243e-434e-80d6-fcf57297e4b9"
      },
      "source": [
        "### Predict 'probability of giving' for members who were contacted"
      ]
    },
    {
      "cell_type": "code",
      "execution_count": 29,
      "id": "18b8a688-14e1-4877-805b-3b967a34b53b",
      "metadata": {
        "colab": {
          "base_uri": "https://localhost:8080/",
          "height": 206
        },
        "id": "18b8a688-14e1-4877-805b-3b967a34b53b",
        "outputId": "75ee9a79-d707-466e-f716-0b7b2753b57f"
      },
      "outputs": [
        {
          "output_type": "execute_result",
          "data": {
            "text/plain": [
              "          ID  ProbContact\n",
              "0  2000001.0     0.289052\n",
              "1  2000002.0     0.630658\n",
              "2  2000003.0     0.630658\n",
              "3  2000004.0     0.378129\n",
              "4  2000005.0     0.527542"
            ],
            "text/html": [
              "\n",
              "  <div id=\"df-8c8682a5-0f84-4926-be56-c520c666804c\">\n",
              "    <div class=\"colab-df-container\">\n",
              "      <div>\n",
              "<style scoped>\n",
              "    .dataframe tbody tr th:only-of-type {\n",
              "        vertical-align: middle;\n",
              "    }\n",
              "\n",
              "    .dataframe tbody tr th {\n",
              "        vertical-align: top;\n",
              "    }\n",
              "\n",
              "    .dataframe thead th {\n",
              "        text-align: right;\n",
              "    }\n",
              "</style>\n",
              "<table border=\"1\" class=\"dataframe\">\n",
              "  <thead>\n",
              "    <tr style=\"text-align: right;\">\n",
              "      <th></th>\n",
              "      <th>ID</th>\n",
              "      <th>ProbContact</th>\n",
              "    </tr>\n",
              "  </thead>\n",
              "  <tbody>\n",
              "    <tr>\n",
              "      <th>0</th>\n",
              "      <td>2000001.0</td>\n",
              "      <td>0.289052</td>\n",
              "    </tr>\n",
              "    <tr>\n",
              "      <th>1</th>\n",
              "      <td>2000002.0</td>\n",
              "      <td>0.630658</td>\n",
              "    </tr>\n",
              "    <tr>\n",
              "      <th>2</th>\n",
              "      <td>2000003.0</td>\n",
              "      <td>0.630658</td>\n",
              "    </tr>\n",
              "    <tr>\n",
              "      <th>3</th>\n",
              "      <td>2000004.0</td>\n",
              "      <td>0.378129</td>\n",
              "    </tr>\n",
              "    <tr>\n",
              "      <th>4</th>\n",
              "      <td>2000005.0</td>\n",
              "      <td>0.527542</td>\n",
              "    </tr>\n",
              "  </tbody>\n",
              "</table>\n",
              "</div>\n",
              "      <button class=\"colab-df-convert\" onclick=\"convertToInteractive('df-8c8682a5-0f84-4926-be56-c520c666804c')\"\n",
              "              title=\"Convert this dataframe to an interactive table.\"\n",
              "              style=\"display:none;\">\n",
              "        \n",
              "  <svg xmlns=\"http://www.w3.org/2000/svg\" height=\"24px\"viewBox=\"0 0 24 24\"\n",
              "       width=\"24px\">\n",
              "    <path d=\"M0 0h24v24H0V0z\" fill=\"none\"/>\n",
              "    <path d=\"M18.56 5.44l.94 2.06.94-2.06 2.06-.94-2.06-.94-.94-2.06-.94 2.06-2.06.94zm-11 1L8.5 8.5l.94-2.06 2.06-.94-2.06-.94L8.5 2.5l-.94 2.06-2.06.94zm10 10l.94 2.06.94-2.06 2.06-.94-2.06-.94-.94-2.06-.94 2.06-2.06.94z\"/><path d=\"M17.41 7.96l-1.37-1.37c-.4-.4-.92-.59-1.43-.59-.52 0-1.04.2-1.43.59L10.3 9.45l-7.72 7.72c-.78.78-.78 2.05 0 2.83L4 21.41c.39.39.9.59 1.41.59.51 0 1.02-.2 1.41-.59l7.78-7.78 2.81-2.81c.8-.78.8-2.07 0-2.86zM5.41 20L4 18.59l7.72-7.72 1.47 1.35L5.41 20z\"/>\n",
              "  </svg>\n",
              "      </button>\n",
              "      \n",
              "  <style>\n",
              "    .colab-df-container {\n",
              "      display:flex;\n",
              "      flex-wrap:wrap;\n",
              "      gap: 12px;\n",
              "    }\n",
              "\n",
              "    .colab-df-convert {\n",
              "      background-color: #E8F0FE;\n",
              "      border: none;\n",
              "      border-radius: 50%;\n",
              "      cursor: pointer;\n",
              "      display: none;\n",
              "      fill: #1967D2;\n",
              "      height: 32px;\n",
              "      padding: 0 0 0 0;\n",
              "      width: 32px;\n",
              "    }\n",
              "\n",
              "    .colab-df-convert:hover {\n",
              "      background-color: #E2EBFA;\n",
              "      box-shadow: 0px 1px 2px rgba(60, 64, 67, 0.3), 0px 1px 3px 1px rgba(60, 64, 67, 0.15);\n",
              "      fill: #174EA6;\n",
              "    }\n",
              "\n",
              "    [theme=dark] .colab-df-convert {\n",
              "      background-color: #3B4455;\n",
              "      fill: #D2E3FC;\n",
              "    }\n",
              "\n",
              "    [theme=dark] .colab-df-convert:hover {\n",
              "      background-color: #434B5C;\n",
              "      box-shadow: 0px 1px 3px 1px rgba(0, 0, 0, 0.15);\n",
              "      filter: drop-shadow(0px 1px 2px rgba(0, 0, 0, 0.3));\n",
              "      fill: #FFFFFF;\n",
              "    }\n",
              "  </style>\n",
              "\n",
              "      <script>\n",
              "        const buttonEl =\n",
              "          document.querySelector('#df-8c8682a5-0f84-4926-be56-c520c666804c button.colab-df-convert');\n",
              "        buttonEl.style.display =\n",
              "          google.colab.kernel.accessAllowed ? 'block' : 'none';\n",
              "\n",
              "        async function convertToInteractive(key) {\n",
              "          const element = document.querySelector('#df-8c8682a5-0f84-4926-be56-c520c666804c');\n",
              "          const dataTable =\n",
              "            await google.colab.kernel.invokeFunction('convertToInteractive',\n",
              "                                                     [key], {});\n",
              "          if (!dataTable) return;\n",
              "\n",
              "          const docLinkHtml = 'Like what you see? Visit the ' +\n",
              "            '<a target=\"_blank\" href=https://colab.research.google.com/notebooks/data_table.ipynb>data table notebook</a>'\n",
              "            + ' to learn more about interactive tables.';\n",
              "          element.innerHTML = '';\n",
              "          dataTable['output_type'] = 'display_data';\n",
              "          await google.colab.output.renderOutput(dataTable, element);\n",
              "          const docLink = document.createElement('div');\n",
              "          docLink.innerHTML = docLinkHtml;\n",
              "          element.appendChild(docLink);\n",
              "        }\n",
              "      </script>\n",
              "    </div>\n",
              "  </div>\n",
              "  "
            ]
          },
          "metadata": {},
          "execution_count": 29
        }
      ],
      "source": [
        "# Merge data\n",
        "scoring_data_contact = pd.merge(data3, data4, on=[\"ID\"],how=\"right\")\n",
        "\n",
        "# Define as 0 missing values of: MinGift, MaxGift and TotalGift\n",
        "scoring_data_contact[['MinGift']] = scoring_data_contact[['MinGift']].fillna(value=0)\n",
        "scoring_data_contact[['MaxGift']] = scoring_data_contact[['MinGift']].fillna(value=0)\n",
        "scoring_data_contact[['TotalGift']] = scoring_data_contact[['MinGift']].fillna(value=0)\n",
        "\n",
        "# Dummy variables for City and Education\n",
        "scoring_data_contact.loc[scoring_data_contact[\"Education\"] == \"Elementary\", \"Education\"] = 0\n",
        "scoring_data_contact.loc[scoring_data_contact[\"Education\"] == \"High School\", \"Education\"] = 1\n",
        "scoring_data_contact.loc[scoring_data_contact[\"Education\"] == \"University / College\", \"Education\"] = 2\n",
        "\n",
        "dummies = pd.get_dummies(scoring_data_contact['City'], drop_first = True)\n",
        "scoring_data_contact = pd.concat([scoring_data_contact, dummies], axis = 1)\n",
        "scoring_data_contact = scoring_data_contact.drop(columns=['City'])\n",
        "\n",
        "# Scoring data, prediction of probabilities\n",
        "X = scoring_data_contact[['Age','Salary','MinGift','GaveLastYear','Contact','Woman', 'NbActivities', 'TotalGift']] \n",
        "DT_predict_contact = DT_model.predict_proba(X)[:,1]\n",
        "scoring_data_contact['Prediction_prob'] = DT_predict_contact\n",
        "\n",
        "scoring_data_contact= scoring_data_contact[['ID','Prediction_prob']]\n",
        "scoring_data_contact = scoring_data_contact.rename({'Prediction_prob': 'ProbContact'}, axis=1) \n",
        "scoring_data_contact.head()"
      ]
    },
    {
      "cell_type": "markdown",
      "id": "9606447c-5c1e-4028-b6ea-44f52897524d",
      "metadata": {
        "id": "9606447c-5c1e-4028-b6ea-44f52897524d"
      },
      "source": [
        "### Predict 'probability of giving' for members who were not contacted"
      ]
    },
    {
      "cell_type": "code",
      "execution_count": 34,
      "id": "de392f5e",
      "metadata": {
        "colab": {
          "base_uri": "https://localhost:8080/",
          "height": 206
        },
        "id": "de392f5e",
        "outputId": "03be99d3-f080-4fa5-d4f4-8194cf78fd06"
      },
      "outputs": [
        {
          "output_type": "execute_result",
          "data": {
            "text/plain": [
              "          ID  ProbNoContact\n",
              "0  2000001.0       0.110727\n",
              "1  2000002.0       0.104091\n",
              "2  2000003.0       0.077298\n",
              "3  2000004.0       0.077298\n",
              "4  2000005.0       0.077298"
            ],
            "text/html": [
              "\n",
              "  <div id=\"df-0469b33f-9d42-48c0-863e-decd67295da6\">\n",
              "    <div class=\"colab-df-container\">\n",
              "      <div>\n",
              "<style scoped>\n",
              "    .dataframe tbody tr th:only-of-type {\n",
              "        vertical-align: middle;\n",
              "    }\n",
              "\n",
              "    .dataframe tbody tr th {\n",
              "        vertical-align: top;\n",
              "    }\n",
              "\n",
              "    .dataframe thead th {\n",
              "        text-align: right;\n",
              "    }\n",
              "</style>\n",
              "<table border=\"1\" class=\"dataframe\">\n",
              "  <thead>\n",
              "    <tr style=\"text-align: right;\">\n",
              "      <th></th>\n",
              "      <th>ID</th>\n",
              "      <th>ProbNoContact</th>\n",
              "    </tr>\n",
              "  </thead>\n",
              "  <tbody>\n",
              "    <tr>\n",
              "      <th>0</th>\n",
              "      <td>2000001.0</td>\n",
              "      <td>0.110727</td>\n",
              "    </tr>\n",
              "    <tr>\n",
              "      <th>1</th>\n",
              "      <td>2000002.0</td>\n",
              "      <td>0.104091</td>\n",
              "    </tr>\n",
              "    <tr>\n",
              "      <th>2</th>\n",
              "      <td>2000003.0</td>\n",
              "      <td>0.077298</td>\n",
              "    </tr>\n",
              "    <tr>\n",
              "      <th>3</th>\n",
              "      <td>2000004.0</td>\n",
              "      <td>0.077298</td>\n",
              "    </tr>\n",
              "    <tr>\n",
              "      <th>4</th>\n",
              "      <td>2000005.0</td>\n",
              "      <td>0.077298</td>\n",
              "    </tr>\n",
              "  </tbody>\n",
              "</table>\n",
              "</div>\n",
              "      <button class=\"colab-df-convert\" onclick=\"convertToInteractive('df-0469b33f-9d42-48c0-863e-decd67295da6')\"\n",
              "              title=\"Convert this dataframe to an interactive table.\"\n",
              "              style=\"display:none;\">\n",
              "        \n",
              "  <svg xmlns=\"http://www.w3.org/2000/svg\" height=\"24px\"viewBox=\"0 0 24 24\"\n",
              "       width=\"24px\">\n",
              "    <path d=\"M0 0h24v24H0V0z\" fill=\"none\"/>\n",
              "    <path d=\"M18.56 5.44l.94 2.06.94-2.06 2.06-.94-2.06-.94-.94-2.06-.94 2.06-2.06.94zm-11 1L8.5 8.5l.94-2.06 2.06-.94-2.06-.94L8.5 2.5l-.94 2.06-2.06.94zm10 10l.94 2.06.94-2.06 2.06-.94-2.06-.94-.94-2.06-.94 2.06-2.06.94z\"/><path d=\"M17.41 7.96l-1.37-1.37c-.4-.4-.92-.59-1.43-.59-.52 0-1.04.2-1.43.59L10.3 9.45l-7.72 7.72c-.78.78-.78 2.05 0 2.83L4 21.41c.39.39.9.59 1.41.59.51 0 1.02-.2 1.41-.59l7.78-7.78 2.81-2.81c.8-.78.8-2.07 0-2.86zM5.41 20L4 18.59l7.72-7.72 1.47 1.35L5.41 20z\"/>\n",
              "  </svg>\n",
              "      </button>\n",
              "      \n",
              "  <style>\n",
              "    .colab-df-container {\n",
              "      display:flex;\n",
              "      flex-wrap:wrap;\n",
              "      gap: 12px;\n",
              "    }\n",
              "\n",
              "    .colab-df-convert {\n",
              "      background-color: #E8F0FE;\n",
              "      border: none;\n",
              "      border-radius: 50%;\n",
              "      cursor: pointer;\n",
              "      display: none;\n",
              "      fill: #1967D2;\n",
              "      height: 32px;\n",
              "      padding: 0 0 0 0;\n",
              "      width: 32px;\n",
              "    }\n",
              "\n",
              "    .colab-df-convert:hover {\n",
              "      background-color: #E2EBFA;\n",
              "      box-shadow: 0px 1px 2px rgba(60, 64, 67, 0.3), 0px 1px 3px 1px rgba(60, 64, 67, 0.15);\n",
              "      fill: #174EA6;\n",
              "    }\n",
              "\n",
              "    [theme=dark] .colab-df-convert {\n",
              "      background-color: #3B4455;\n",
              "      fill: #D2E3FC;\n",
              "    }\n",
              "\n",
              "    [theme=dark] .colab-df-convert:hover {\n",
              "      background-color: #434B5C;\n",
              "      box-shadow: 0px 1px 3px 1px rgba(0, 0, 0, 0.15);\n",
              "      filter: drop-shadow(0px 1px 2px rgba(0, 0, 0, 0.3));\n",
              "      fill: #FFFFFF;\n",
              "    }\n",
              "  </style>\n",
              "\n",
              "      <script>\n",
              "        const buttonEl =\n",
              "          document.querySelector('#df-0469b33f-9d42-48c0-863e-decd67295da6 button.colab-df-convert');\n",
              "        buttonEl.style.display =\n",
              "          google.colab.kernel.accessAllowed ? 'block' : 'none';\n",
              "\n",
              "        async function convertToInteractive(key) {\n",
              "          const element = document.querySelector('#df-0469b33f-9d42-48c0-863e-decd67295da6');\n",
              "          const dataTable =\n",
              "            await google.colab.kernel.invokeFunction('convertToInteractive',\n",
              "                                                     [key], {});\n",
              "          if (!dataTable) return;\n",
              "\n",
              "          const docLinkHtml = 'Like what you see? Visit the ' +\n",
              "            '<a target=\"_blank\" href=https://colab.research.google.com/notebooks/data_table.ipynb>data table notebook</a>'\n",
              "            + ' to learn more about interactive tables.';\n",
              "          element.innerHTML = '';\n",
              "          dataTable['output_type'] = 'display_data';\n",
              "          await google.colab.output.renderOutput(dataTable, element);\n",
              "          const docLink = document.createElement('div');\n",
              "          docLink.innerHTML = docLinkHtml;\n",
              "          element.appendChild(docLink);\n",
              "        }\n",
              "      </script>\n",
              "    </div>\n",
              "  </div>\n",
              "  "
            ]
          },
          "metadata": {},
          "execution_count": 34
        }
      ],
      "source": [
        "# Merge data\n",
        "scoring_data_nocontact = pd.merge(data3, data5, on=[\"ID\"],how=\"right\")\n",
        "\n",
        "# Define as 0 missing values of: MinGift, MaxGift and TotalGift\n",
        "scoring_data_nocontact[['MinGift']] = scoring_data_nocontact[['MinGift']].fillna(value=0)\n",
        "scoring_data_nocontact[['MaxGift']] = scoring_data_nocontact[['MinGift']].fillna(value=0)\n",
        "scoring_data_nocontact[['TotalGift']] = scoring_data_nocontact[['MinGift']].fillna(value=0)\n",
        "\n",
        "# Dummy variables for City and Education\n",
        "scoring_data_nocontact.loc[scoring_data_nocontact[\"Education\"] == \"Elementary\", \"Education\"] = 0\n",
        "scoring_data_nocontact.loc[scoring_data_nocontact[\"Education\"] == \"High School\", \"Education\"] = 1\n",
        "scoring_data_nocontact.loc[scoring_data_nocontact[\"Education\"] == \"University / College\", \"Education\"] = 2\n",
        "\n",
        "dummies = pd.get_dummies(scoring_data_nocontact['City'], drop_first = True)\n",
        "scoring_data_nocontact = pd.concat([scoring_data_nocontact, dummies], axis = 1)\n",
        "scoring_data_nocontact = scoring_data_nocontact.drop(columns=['City'])\n",
        "\n",
        "# Scoring data, prediction of probabilities\n",
        "X = scoring_data_nocontact[['Age','Salary','MinGift','GaveLastYear','Contact','Woman', 'NbActivities', 'TotalGift']] \n",
        "DT_predict_nocontact = DT_model.predict_proba(X)[:,1]\n",
        "scoring_data_nocontact['Prediction_prob'] = DT_predict_nocontact\n",
        "\n",
        "scoring_data_nocontact= scoring_data_nocontact[['ID','Prediction_prob']]\n",
        "scoring_data_nocontact = scoring_data_nocontact.rename({'Prediction_prob': 'ProbNoContact'}, axis=1) \n",
        "scoring_data_nocontact.head()"
      ]
    },
    {
      "cell_type": "code",
      "execution_count": 35,
      "id": "5036d69c",
      "metadata": {
        "colab": {
          "base_uri": "https://localhost:8080/",
          "height": 363
        },
        "id": "5036d69c",
        "outputId": "467c7ce7-0097-43cc-9da8-48c916fe3de9"
      },
      "outputs": [
        {
          "output_type": "execute_result",
          "data": {
            "text/plain": [
              "               ID  ProbContact  ProbNoContact\n",
              "696630  2696631.0     0.630658       0.077298\n",
              "830745  2830746.0     0.289052       0.077298\n",
              "319818  2319819.0     0.332331       0.077298\n",
              "971282  2971283.0     0.283237       0.110727\n",
              "549075  2549076.0     0.367328       0.077298\n",
              "168073  2168074.0     0.630658       0.110727\n",
              "147996  2147997.0     0.283237       0.110727\n",
              "962010  2962011.0     0.378129       0.110727\n",
              "870305  2870306.0     0.289052       0.077298\n",
              "679766  2679767.0     0.367328       0.077298"
            ],
            "text/html": [
              "\n",
              "  <div id=\"df-33296081-a77c-4fbe-9e88-357a050dcf61\">\n",
              "    <div class=\"colab-df-container\">\n",
              "      <div>\n",
              "<style scoped>\n",
              "    .dataframe tbody tr th:only-of-type {\n",
              "        vertical-align: middle;\n",
              "    }\n",
              "\n",
              "    .dataframe tbody tr th {\n",
              "        vertical-align: top;\n",
              "    }\n",
              "\n",
              "    .dataframe thead th {\n",
              "        text-align: right;\n",
              "    }\n",
              "</style>\n",
              "<table border=\"1\" class=\"dataframe\">\n",
              "  <thead>\n",
              "    <tr style=\"text-align: right;\">\n",
              "      <th></th>\n",
              "      <th>ID</th>\n",
              "      <th>ProbContact</th>\n",
              "      <th>ProbNoContact</th>\n",
              "    </tr>\n",
              "  </thead>\n",
              "  <tbody>\n",
              "    <tr>\n",
              "      <th>696630</th>\n",
              "      <td>2696631.0</td>\n",
              "      <td>0.630658</td>\n",
              "      <td>0.077298</td>\n",
              "    </tr>\n",
              "    <tr>\n",
              "      <th>830745</th>\n",
              "      <td>2830746.0</td>\n",
              "      <td>0.289052</td>\n",
              "      <td>0.077298</td>\n",
              "    </tr>\n",
              "    <tr>\n",
              "      <th>319818</th>\n",
              "      <td>2319819.0</td>\n",
              "      <td>0.332331</td>\n",
              "      <td>0.077298</td>\n",
              "    </tr>\n",
              "    <tr>\n",
              "      <th>971282</th>\n",
              "      <td>2971283.0</td>\n",
              "      <td>0.283237</td>\n",
              "      <td>0.110727</td>\n",
              "    </tr>\n",
              "    <tr>\n",
              "      <th>549075</th>\n",
              "      <td>2549076.0</td>\n",
              "      <td>0.367328</td>\n",
              "      <td>0.077298</td>\n",
              "    </tr>\n",
              "    <tr>\n",
              "      <th>168073</th>\n",
              "      <td>2168074.0</td>\n",
              "      <td>0.630658</td>\n",
              "      <td>0.110727</td>\n",
              "    </tr>\n",
              "    <tr>\n",
              "      <th>147996</th>\n",
              "      <td>2147997.0</td>\n",
              "      <td>0.283237</td>\n",
              "      <td>0.110727</td>\n",
              "    </tr>\n",
              "    <tr>\n",
              "      <th>962010</th>\n",
              "      <td>2962011.0</td>\n",
              "      <td>0.378129</td>\n",
              "      <td>0.110727</td>\n",
              "    </tr>\n",
              "    <tr>\n",
              "      <th>870305</th>\n",
              "      <td>2870306.0</td>\n",
              "      <td>0.289052</td>\n",
              "      <td>0.077298</td>\n",
              "    </tr>\n",
              "    <tr>\n",
              "      <th>679766</th>\n",
              "      <td>2679767.0</td>\n",
              "      <td>0.367328</td>\n",
              "      <td>0.077298</td>\n",
              "    </tr>\n",
              "  </tbody>\n",
              "</table>\n",
              "</div>\n",
              "      <button class=\"colab-df-convert\" onclick=\"convertToInteractive('df-33296081-a77c-4fbe-9e88-357a050dcf61')\"\n",
              "              title=\"Convert this dataframe to an interactive table.\"\n",
              "              style=\"display:none;\">\n",
              "        \n",
              "  <svg xmlns=\"http://www.w3.org/2000/svg\" height=\"24px\"viewBox=\"0 0 24 24\"\n",
              "       width=\"24px\">\n",
              "    <path d=\"M0 0h24v24H0V0z\" fill=\"none\"/>\n",
              "    <path d=\"M18.56 5.44l.94 2.06.94-2.06 2.06-.94-2.06-.94-.94-2.06-.94 2.06-2.06.94zm-11 1L8.5 8.5l.94-2.06 2.06-.94-2.06-.94L8.5 2.5l-.94 2.06-2.06.94zm10 10l.94 2.06.94-2.06 2.06-.94-2.06-.94-.94-2.06-.94 2.06-2.06.94z\"/><path d=\"M17.41 7.96l-1.37-1.37c-.4-.4-.92-.59-1.43-.59-.52 0-1.04.2-1.43.59L10.3 9.45l-7.72 7.72c-.78.78-.78 2.05 0 2.83L4 21.41c.39.39.9.59 1.41.59.51 0 1.02-.2 1.41-.59l7.78-7.78 2.81-2.81c.8-.78.8-2.07 0-2.86zM5.41 20L4 18.59l7.72-7.72 1.47 1.35L5.41 20z\"/>\n",
              "  </svg>\n",
              "      </button>\n",
              "      \n",
              "  <style>\n",
              "    .colab-df-container {\n",
              "      display:flex;\n",
              "      flex-wrap:wrap;\n",
              "      gap: 12px;\n",
              "    }\n",
              "\n",
              "    .colab-df-convert {\n",
              "      background-color: #E8F0FE;\n",
              "      border: none;\n",
              "      border-radius: 50%;\n",
              "      cursor: pointer;\n",
              "      display: none;\n",
              "      fill: #1967D2;\n",
              "      height: 32px;\n",
              "      padding: 0 0 0 0;\n",
              "      width: 32px;\n",
              "    }\n",
              "\n",
              "    .colab-df-convert:hover {\n",
              "      background-color: #E2EBFA;\n",
              "      box-shadow: 0px 1px 2px rgba(60, 64, 67, 0.3), 0px 1px 3px 1px rgba(60, 64, 67, 0.15);\n",
              "      fill: #174EA6;\n",
              "    }\n",
              "\n",
              "    [theme=dark] .colab-df-convert {\n",
              "      background-color: #3B4455;\n",
              "      fill: #D2E3FC;\n",
              "    }\n",
              "\n",
              "    [theme=dark] .colab-df-convert:hover {\n",
              "      background-color: #434B5C;\n",
              "      box-shadow: 0px 1px 3px 1px rgba(0, 0, 0, 0.15);\n",
              "      filter: drop-shadow(0px 1px 2px rgba(0, 0, 0, 0.3));\n",
              "      fill: #FFFFFF;\n",
              "    }\n",
              "  </style>\n",
              "\n",
              "      <script>\n",
              "        const buttonEl =\n",
              "          document.querySelector('#df-33296081-a77c-4fbe-9e88-357a050dcf61 button.colab-df-convert');\n",
              "        buttonEl.style.display =\n",
              "          google.colab.kernel.accessAllowed ? 'block' : 'none';\n",
              "\n",
              "        async function convertToInteractive(key) {\n",
              "          const element = document.querySelector('#df-33296081-a77c-4fbe-9e88-357a050dcf61');\n",
              "          const dataTable =\n",
              "            await google.colab.kernel.invokeFunction('convertToInteractive',\n",
              "                                                     [key], {});\n",
              "          if (!dataTable) return;\n",
              "\n",
              "          const docLinkHtml = 'Like what you see? Visit the ' +\n",
              "            '<a target=\"_blank\" href=https://colab.research.google.com/notebooks/data_table.ipynb>data table notebook</a>'\n",
              "            + ' to learn more about interactive tables.';\n",
              "          element.innerHTML = '';\n",
              "          dataTable['output_type'] = 'display_data';\n",
              "          await google.colab.output.renderOutput(dataTable, element);\n",
              "          const docLink = document.createElement('div');\n",
              "          docLink.innerHTML = docLinkHtml;\n",
              "          element.appendChild(docLink);\n",
              "        }\n",
              "      </script>\n",
              "    </div>\n",
              "  </div>\n",
              "  "
            ]
          },
          "metadata": {},
          "execution_count": 35
        }
      ],
      "source": [
        "# Show results\n",
        "result_Prob = pd.merge(scoring_data_contact, scoring_data_nocontact, on=[\"ID\"],how=\"right\")\n",
        "result_Prob.sort_values(by=['ID'], inplace=True)\n",
        "result_Prob.sample(10)"
      ]
    },
    {
      "cell_type": "markdown",
      "id": "f09bf90d",
      "metadata": {
        "id": "f09bf90d"
      },
      "source": [
        "## Exporting Results to a CSV File"
      ]
    },
    {
      "cell_type": "code",
      "execution_count": 36,
      "id": "606bf0a9",
      "metadata": {
        "id": "606bf0a9"
      },
      "outputs": [],
      "source": [
        "result_Prob.to_csv('Round2_Output_prob.csv', index=False)"
      ]
    },
    {
      "cell_type": "code",
      "execution_count": 37,
      "id": "d9741c47-e3ba-4c76-9ddc-f1a6ee545677",
      "metadata": {
        "id": "d9741c47-e3ba-4c76-9ddc-f1a6ee545677"
      },
      "outputs": [],
      "source": [
        "import pandas as pd\n",
        "\n",
        "NB = 250000\n",
        "probabilities = pd.read_csv(\"Round2_Output_prob.csv\")\n",
        "amounts = pd.read_csv(\"Round2_Output_amt.csv\")\n",
        "\n",
        "def Calc_Uplift(raw_data):\n",
        "    return ((raw_data['AmtContact']*raw_data['ProbContact']) - (raw_data['AmtNoContact']*raw_data['ProbNoContact']))\n",
        "\n",
        "raw_submission = pd.merge(probabilities, amounts, on=[\"ID\"], how=\"right\")\n",
        "raw_submission[\"Uplift\"] = raw_submission.apply(lambda row: Calc_Uplift(row), axis=1)\n",
        "\n",
        "# Sorting data by descending Uplift value\n",
        "raw_submission.sort_values(by=['Uplift'], ascending=False, inplace=True)\n"
      ]
    },
    {
      "cell_type": "code",
      "execution_count": 38,
      "id": "4d5cbccf",
      "metadata": {
        "id": "4d5cbccf"
      },
      "outputs": [],
      "source": [
        "# Export the final csv file\n",
        "submission = raw_submission.head(NB)\n",
        "submission.to_csv('Round2 Output final.csv', index=False)\n"
      ]
    },
    {
      "cell_type": "code",
      "execution_count": 39,
      "id": "e18f3d58",
      "metadata": {
        "id": "e18f3d58"
      },
      "outputs": [],
      "source": [
        "Result1= raw_submission['ID']\n",
        "NB = 250000\n",
        "submission = Result1.head(NB)\n",
        "submission.to_csv('Round2 Output final IDs.csv', index=False)"
      ]
    }
  ],
  "metadata": {
    "kernelspec": {
      "display_name": "Python 3 (ipykernel)",
      "language": "python",
      "name": "python3"
    },
    "language_info": {
      "codemirror_mode": {
        "name": "ipython",
        "version": 3
      },
      "file_extension": ".py",
      "mimetype": "text/x-python",
      "name": "python",
      "nbconvert_exporter": "python",
      "pygments_lexer": "ipython3",
      "version": "3.9.13"
    },
    "colab": {
      "provenance": [],
      "collapsed_sections": [
        "195cb6d4",
        "6aaee9cc-8511-41a8-b0ab-a882d405d88a"
      ]
    }
  },
  "nbformat": 4,
  "nbformat_minor": 5
}